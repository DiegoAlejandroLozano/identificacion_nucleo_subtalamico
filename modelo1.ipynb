{
 "cells": [
  {
   "cell_type": "markdown",
   "metadata": {},
   "source": [
    "## **Parte 1:** Importanción de librerías"
   ]
  },
  {
   "cell_type": "markdown",
   "metadata": {},
   "source": [
    "Suprimiendo los Warnings"
   ]
  },
  {
   "cell_type": "code",
   "execution_count": 1,
   "metadata": {},
   "outputs": [],
   "source": [
    "import warnings\n",
    "warnings.filterwarnings(\"ignore\")"
   ]
  },
  {
   "cell_type": "markdown",
   "metadata": {},
   "source": [
    "Importando las librerías necesarias"
   ]
  },
  {
   "cell_type": "code",
   "execution_count": 2,
   "metadata": {},
   "outputs": [],
   "source": [
    "import pandas as pd\n",
    "import numpy as np\n",
    "import seaborn as sns\n",
    "import matplotlib.pyplot as plt\n",
    "\n",
    "from keras.models import Sequential\n",
    "from keras.layers import Conv1D, MaxPool1D, Flatten, Dense, Dropout\n",
    "from keras.optimizers import Adam\n",
    "\n",
    "from sklearn.preprocessing import StandardScaler\n",
    "from sklearn.model_selection import train_test_split, StratifiedKFold\n",
    "from sklearn.metrics import accuracy_score, precision_score, recall_score, f1_score, confusion_matrix\n"
   ]
  },
  {
   "cell_type": "markdown",
   "metadata": {},
   "source": [
    "## **Parte 2:** Cargando los datos"
   ]
  },
  {
   "cell_type": "code",
   "execution_count": 3,
   "metadata": {},
   "outputs": [
    {
     "data": {
      "text/html": [
       "<div>\n",
       "<style scoped>\n",
       "    .dataframe tbody tr th:only-of-type {\n",
       "        vertical-align: middle;\n",
       "    }\n",
       "\n",
       "    .dataframe tbody tr th {\n",
       "        vertical-align: top;\n",
       "    }\n",
       "\n",
       "    .dataframe thead th {\n",
       "        text-align: right;\n",
       "    }\n",
       "</style>\n",
       "<table border=\"1\" class=\"dataframe\">\n",
       "  <thead>\n",
       "    <tr style=\"text-align: right;\">\n",
       "      <th></th>\n",
       "      <th>muestra 1</th>\n",
       "      <th>muestra 2</th>\n",
       "      <th>muestra 3</th>\n",
       "      <th>muestra 4</th>\n",
       "      <th>muestra 5</th>\n",
       "      <th>muestra 6</th>\n",
       "      <th>muestra 7</th>\n",
       "      <th>muestra 8</th>\n",
       "      <th>muestra 9</th>\n",
       "      <th>muestra 10</th>\n",
       "      <th>...</th>\n",
       "      <th>muestra 2492</th>\n",
       "      <th>muestra 2493</th>\n",
       "      <th>muestra 2494</th>\n",
       "      <th>muestra 2495</th>\n",
       "      <th>muestra 2496</th>\n",
       "      <th>muestra 2497</th>\n",
       "      <th>muestra 2498</th>\n",
       "      <th>muestra 2499</th>\n",
       "      <th>muestra 2500</th>\n",
       "      <th>estructura</th>\n",
       "    </tr>\n",
       "  </thead>\n",
       "  <tbody>\n",
       "    <tr>\n",
       "      <th>0</th>\n",
       "      <td>-54</td>\n",
       "      <td>-14</td>\n",
       "      <td>-102</td>\n",
       "      <td>-286</td>\n",
       "      <td>-384</td>\n",
       "      <td>-379</td>\n",
       "      <td>-358</td>\n",
       "      <td>-340</td>\n",
       "      <td>-244</td>\n",
       "      <td>-144</td>\n",
       "      <td>...</td>\n",
       "      <td>45</td>\n",
       "      <td>100</td>\n",
       "      <td>58</td>\n",
       "      <td>31</td>\n",
       "      <td>1</td>\n",
       "      <td>-25</td>\n",
       "      <td>15</td>\n",
       "      <td>0</td>\n",
       "      <td>-4</td>\n",
       "      <td>1</td>\n",
       "    </tr>\n",
       "    <tr>\n",
       "      <th>1</th>\n",
       "      <td>-142</td>\n",
       "      <td>-242</td>\n",
       "      <td>-218</td>\n",
       "      <td>-144</td>\n",
       "      <td>-150</td>\n",
       "      <td>-214</td>\n",
       "      <td>-145</td>\n",
       "      <td>33</td>\n",
       "      <td>226</td>\n",
       "      <td>315</td>\n",
       "      <td>...</td>\n",
       "      <td>61</td>\n",
       "      <td>-59</td>\n",
       "      <td>-125</td>\n",
       "      <td>-86</td>\n",
       "      <td>70</td>\n",
       "      <td>162</td>\n",
       "      <td>234</td>\n",
       "      <td>189</td>\n",
       "      <td>151</td>\n",
       "      <td>1</td>\n",
       "    </tr>\n",
       "    <tr>\n",
       "      <th>2</th>\n",
       "      <td>2</td>\n",
       "      <td>7</td>\n",
       "      <td>15</td>\n",
       "      <td>27</td>\n",
       "      <td>47</td>\n",
       "      <td>45</td>\n",
       "      <td>-9</td>\n",
       "      <td>-75</td>\n",
       "      <td>-94</td>\n",
       "      <td>-71</td>\n",
       "      <td>...</td>\n",
       "      <td>-108</td>\n",
       "      <td>-81</td>\n",
       "      <td>-86</td>\n",
       "      <td>-27</td>\n",
       "      <td>-24</td>\n",
       "      <td>-11</td>\n",
       "      <td>-2</td>\n",
       "      <td>47</td>\n",
       "      <td>38</td>\n",
       "      <td>0</td>\n",
       "    </tr>\n",
       "    <tr>\n",
       "      <th>3</th>\n",
       "      <td>135</td>\n",
       "      <td>-96</td>\n",
       "      <td>-6</td>\n",
       "      <td>-100</td>\n",
       "      <td>10</td>\n",
       "      <td>-68</td>\n",
       "      <td>-138</td>\n",
       "      <td>-335</td>\n",
       "      <td>-373</td>\n",
       "      <td>-199</td>\n",
       "      <td>...</td>\n",
       "      <td>116</td>\n",
       "      <td>111</td>\n",
       "      <td>279</td>\n",
       "      <td>282</td>\n",
       "      <td>333</td>\n",
       "      <td>138</td>\n",
       "      <td>-17</td>\n",
       "      <td>-14</td>\n",
       "      <td>-200</td>\n",
       "      <td>0</td>\n",
       "    </tr>\n",
       "    <tr>\n",
       "      <th>4</th>\n",
       "      <td>-68</td>\n",
       "      <td>-91</td>\n",
       "      <td>67</td>\n",
       "      <td>119</td>\n",
       "      <td>83</td>\n",
       "      <td>128</td>\n",
       "      <td>-55</td>\n",
       "      <td>22</td>\n",
       "      <td>-139</td>\n",
       "      <td>-69</td>\n",
       "      <td>...</td>\n",
       "      <td>-18</td>\n",
       "      <td>17</td>\n",
       "      <td>157</td>\n",
       "      <td>255</td>\n",
       "      <td>322</td>\n",
       "      <td>467</td>\n",
       "      <td>188</td>\n",
       "      <td>298</td>\n",
       "      <td>199</td>\n",
       "      <td>0</td>\n",
       "    </tr>\n",
       "  </tbody>\n",
       "</table>\n",
       "<p>5 rows × 2501 columns</p>\n",
       "</div>"
      ],
      "text/plain": [
       "   muestra 1  muestra 2  muestra 3  muestra 4  muestra 5  muestra 6   \n",
       "0        -54        -14       -102       -286       -384       -379  \\\n",
       "1       -142       -242       -218       -144       -150       -214   \n",
       "2          2          7         15         27         47         45   \n",
       "3        135        -96         -6       -100         10        -68   \n",
       "4        -68        -91         67        119         83        128   \n",
       "\n",
       "   muestra 7  muestra 8  muestra 9  muestra 10  ...  muestra 2492   \n",
       "0       -358       -340       -244        -144  ...            45  \\\n",
       "1       -145         33        226         315  ...            61   \n",
       "2         -9        -75        -94         -71  ...          -108   \n",
       "3       -138       -335       -373        -199  ...           116   \n",
       "4        -55         22       -139         -69  ...           -18   \n",
       "\n",
       "   muestra 2493  muestra 2494  muestra 2495  muestra 2496  muestra 2497   \n",
       "0           100            58            31             1           -25  \\\n",
       "1           -59          -125           -86            70           162   \n",
       "2           -81           -86           -27           -24           -11   \n",
       "3           111           279           282           333           138   \n",
       "4            17           157           255           322           467   \n",
       "\n",
       "   muestra 2498  muestra 2499  muestra 2500  estructura  \n",
       "0            15             0            -4           1  \n",
       "1           234           189           151           1  \n",
       "2            -2            47            38           0  \n",
       "3           -17           -14          -200           0  \n",
       "4           188           298           199           0  \n",
       "\n",
       "[5 rows x 2501 columns]"
      ]
     },
     "execution_count": 3,
     "metadata": {},
     "output_type": "execute_result"
    }
   ],
   "source": [
    "df = pd.read_csv(\"BD_procesada/BD_procesada.csv\", sep=\";\")\n",
    "df.head()"
   ]
  },
  {
   "cell_type": "markdown",
   "metadata": {},
   "source": [
    "## **Parte 3:** transformando los datos"
   ]
  },
  {
   "cell_type": "markdown",
   "metadata": {},
   "source": [
    "Diviendo el conjunto en entranimiento y prueba"
   ]
  },
  {
   "cell_type": "code",
   "execution_count": 4,
   "metadata": {},
   "outputs": [],
   "source": [
    "X = df.drop(columns=['estructura'], axis=1)\n",
    "y = df['estructura']\n",
    "X_train, X_test, y_train, y_test = train_test_split(X, y, test_size=0.2, random_state=42)"
   ]
  },
  {
   "cell_type": "markdown",
   "metadata": {},
   "source": [
    "Estandarizar los datos"
   ]
  },
  {
   "cell_type": "code",
   "execution_count": 5,
   "metadata": {},
   "outputs": [],
   "source": [
    "scaler = StandardScaler()\n",
    "X_train_scaled = scaler.fit_transform(X_train)\n",
    "X_test_scaled = scaler.transform(X_test)"
   ]
  },
  {
   "cell_type": "markdown",
   "metadata": {},
   "source": [
    "Reshape de los datos para que tengan la forma adecuada para la convolución (número de registros, longitud de los registros, número de características)"
   ]
  },
  {
   "cell_type": "code",
   "execution_count": 6,
   "metadata": {},
   "outputs": [],
   "source": [
    "X_train_reshaped = X_train_scaled.reshape(X_train_scaled.shape[0], X_train_scaled.shape[1], 1)\n",
    "X_test_reshaped = X_test_scaled.reshape(X_test_scaled.shape[0], X_test_scaled.shape[1], 1)"
   ]
  },
  {
   "cell_type": "markdown",
   "metadata": {},
   "source": [
    "## **Parte 4:** Modelo"
   ]
  },
  {
   "cell_type": "markdown",
   "metadata": {},
   "source": [
    "Creación de la estructura del modelo"
   ]
  },
  {
   "cell_type": "code",
   "execution_count": 7,
   "metadata": {},
   "outputs": [],
   "source": [
    "modelo = Sequential()\n",
    "\n",
    "modelo.add(Conv1D(filters=32, kernel_size=3, activation='relu', input_shape=(X_train_reshaped.shape[1], 1)))\n",
    "modelo.add(MaxPool1D(pool_size=2))\n",
    "\n",
    "modelo.add(Flatten())\n",
    "\n",
    "modelo.add(Dense(64, activation='relu'))\n",
    "modelo.add(Dropout(0.5))\n",
    "\n",
    "modelo.add(Dense(1, activation='sigmoid'))"
   ]
  },
  {
   "cell_type": "markdown",
   "metadata": {},
   "source": [
    "Compilación del modelo"
   ]
  },
  {
   "cell_type": "code",
   "execution_count": 8,
   "metadata": {},
   "outputs": [],
   "source": [
    "modelo.compile(optimizer=Adam(), loss = 'binary_crossentropy')"
   ]
  },
  {
   "cell_type": "markdown",
   "metadata": {},
   "source": [
    "Entrenando el modelo"
   ]
  },
  {
   "cell_type": "code",
   "execution_count": 9,
   "metadata": {},
   "outputs": [
    {
     "name": "stdout",
     "output_type": "stream",
     "text": [
      "Epoch 1/40\n",
      "45/45 [==============================] - 12s 230ms/step - loss: 0.8179 - val_loss: 0.6749\n",
      "Epoch 2/40\n",
      "45/45 [==============================] - 9s 196ms/step - loss: 0.6782 - val_loss: 0.6765\n",
      "Epoch 3/40\n",
      "45/45 [==============================] - 7s 159ms/step - loss: 0.6631 - val_loss: 0.6526\n",
      "Epoch 4/40\n",
      "45/45 [==============================] - 7s 162ms/step - loss: 0.6492 - val_loss: 0.6475\n",
      "Epoch 5/40\n",
      "45/45 [==============================] - 7s 148ms/step - loss: 0.6118 - val_loss: 0.6130\n",
      "Epoch 6/40\n",
      "45/45 [==============================] - 7s 148ms/step - loss: 0.6000 - val_loss: 0.6158\n",
      "Epoch 7/40\n",
      "45/45 [==============================] - 7s 147ms/step - loss: 0.5897 - val_loss: 0.6129\n",
      "Epoch 8/40\n",
      "45/45 [==============================] - 7s 150ms/step - loss: 0.5722 - val_loss: 0.6101\n",
      "Epoch 9/40\n",
      "45/45 [==============================] - 6s 143ms/step - loss: 0.5235 - val_loss: 0.5949\n",
      "Epoch 10/40\n",
      "45/45 [==============================] - 7s 147ms/step - loss: 0.4932 - val_loss: 0.5733\n",
      "Epoch 11/40\n",
      "45/45 [==============================] - 7s 146ms/step - loss: 0.4538 - val_loss: 0.5449\n",
      "Epoch 12/40\n",
      "45/45 [==============================] - 7s 146ms/step - loss: 0.4333 - val_loss: 0.6215\n",
      "Epoch 13/40\n",
      "45/45 [==============================] - 7s 156ms/step - loss: 0.4109 - val_loss: 0.5497\n",
      "Epoch 14/40\n",
      "45/45 [==============================] - 7s 151ms/step - loss: 0.3846 - val_loss: 0.5654\n",
      "Epoch 15/40\n",
      "45/45 [==============================] - 7s 147ms/step - loss: 0.3734 - val_loss: 0.5537\n",
      "Epoch 16/40\n",
      "45/45 [==============================] - 7s 148ms/step - loss: 0.3677 - val_loss: 0.5734\n",
      "Epoch 17/40\n",
      "45/45 [==============================] - 7s 150ms/step - loss: 0.3305 - val_loss: 0.6235\n",
      "Epoch 18/40\n",
      "45/45 [==============================] - 6s 141ms/step - loss: 0.3330 - val_loss: 0.6128\n",
      "Epoch 19/40\n",
      "45/45 [==============================] - 6s 143ms/step - loss: 0.3158 - val_loss: 0.6540\n",
      "Epoch 20/40\n",
      "45/45 [==============================] - 6s 142ms/step - loss: 0.3181 - val_loss: 0.7600\n",
      "Epoch 21/40\n",
      "45/45 [==============================] - 6s 143ms/step - loss: 0.3132 - val_loss: 0.6488\n",
      "Epoch 22/40\n",
      "45/45 [==============================] - 11s 248ms/step - loss: 0.3031 - val_loss: 0.6558\n",
      "Epoch 23/40\n",
      "45/45 [==============================] - 11s 237ms/step - loss: 0.3098 - val_loss: 0.6106\n",
      "Epoch 24/40\n",
      "45/45 [==============================] - 10s 216ms/step - loss: 0.2984 - val_loss: 0.7176\n",
      "Epoch 25/40\n",
      "45/45 [==============================] - 11s 251ms/step - loss: 0.2938 - val_loss: 0.7274\n",
      "Epoch 26/40\n",
      "45/45 [==============================] - 9s 197ms/step - loss: 0.2825 - val_loss: 0.8196\n",
      "Epoch 27/40\n",
      "45/45 [==============================] - 7s 163ms/step - loss: 0.2888 - val_loss: 0.7657\n",
      "Epoch 28/40\n",
      "45/45 [==============================] - 10s 218ms/step - loss: 0.2848 - val_loss: 0.7010\n",
      "Epoch 29/40\n",
      "45/45 [==============================] - 9s 202ms/step - loss: 0.2885 - val_loss: 0.7703\n",
      "Epoch 30/40\n",
      "45/45 [==============================] - 7s 163ms/step - loss: 0.2647 - val_loss: 0.7433\n",
      "Epoch 31/40\n",
      "45/45 [==============================] - 8s 169ms/step - loss: 0.2740 - val_loss: 0.8824\n",
      "Epoch 32/40\n",
      "45/45 [==============================] - 8s 175ms/step - loss: 0.2635 - val_loss: 0.7601\n",
      "Epoch 33/40\n",
      "45/45 [==============================] - 7s 165ms/step - loss: 0.2653 - val_loss: 0.8026\n",
      "Epoch 34/40\n",
      "45/45 [==============================] - 8s 173ms/step - loss: 0.2573 - val_loss: 0.8605\n",
      "Epoch 35/40\n",
      "45/45 [==============================] - 10s 227ms/step - loss: 0.2463 - val_loss: 0.7380\n",
      "Epoch 36/40\n",
      "45/45 [==============================] - 7s 161ms/step - loss: 0.2609 - val_loss: 0.9304\n",
      "Epoch 37/40\n",
      "45/45 [==============================] - 10s 220ms/step - loss: 0.2669 - val_loss: 0.8105\n",
      "Epoch 38/40\n",
      "45/45 [==============================] - 7s 149ms/step - loss: 0.2485 - val_loss: 0.7941\n",
      "Epoch 39/40\n",
      "45/45 [==============================] - 6s 143ms/step - loss: 0.2546 - val_loss: 0.8003\n",
      "Epoch 40/40\n",
      "45/45 [==============================] - 7s 146ms/step - loss: 0.2413 - val_loss: 0.8369\n"
     ]
    },
    {
     "data": {
      "text/plain": [
       "<keras.callbacks.History at 0x247a781ebe0>"
      ]
     },
     "execution_count": 9,
     "metadata": {},
     "output_type": "execute_result"
    }
   ],
   "source": [
    "modelo.fit(X_train_reshaped, y_train, epochs=40, batch_size=64, validation_split=0.1)"
   ]
  },
  {
   "cell_type": "markdown",
   "metadata": {},
   "source": [
    "Evaluación del modelo"
   ]
  },
  {
   "cell_type": "code",
   "execution_count": 10,
   "metadata": {},
   "outputs": [
    {
     "name": "stdout",
     "output_type": "stream",
     "text": [
      "25/25 [==============================] - 1s 33ms/step\n",
      "\n",
      "Matriz de Confusión:\n"
     ]
    },
    {
     "data": {
      "image/png": "[encoded data removed]",
      "text/plain": [
       "<Figure size 800x600 with 1 Axes>"
      ]
     },
     "metadata": {},
     "output_type": "display_data"
    },
    {
     "name": "stdout",
     "output_type": "stream",
     "text": [
      "Accuracy:\t66.38%\n",
      "Sensitivity:\t50.65%\n",
      "Specificity:\t81.11%\n",
      "Precision:\t71.53%\n",
      "F1-score:\t59.30%\n"
     ]
    }
   ],
   "source": [
    "y_pred_prob = modelo.predict(X_test_reshaped)\n",
    "\n",
    "# Convertir las probabilidades en clases binarias usando un umbral (por ejemplo, 0.85)\n",
    "y_pred = (y_pred_prob > 0.85).astype(int)\n",
    "\n",
    "#Calcular la matriz de confusión\n",
    "conf_matrix = confusion_matrix(y_true=y_test, y_pred=y_pred)\n",
    "\n",
    "# Calcular métricas\n",
    "accuracy = accuracy_score(y_test, y_pred)\n",
    "precision = precision_score(y_test, y_pred)\n",
    "recall = recall_score(y_test, y_pred)\n",
    "f1 = f1_score(y_test, y_pred)\n",
    "\n",
    "# Calcular sensitivity y specificity\n",
    "tn, fp, fn, tp = conf_matrix.ravel()\n",
    "sensitivity = tp / (tp + fn)\n",
    "specificity = tn / (tn + fp)\n",
    "\n",
    "# Imprimir resultados\n",
    "print(\"\\nMatriz de Confusión:\")\n",
    "\n",
    "# Define las etiquetas para los valores en la matriz de confusión\n",
    "labels = [['Verdaderos Negativos\\n', 'Falsos Positivos\\n'],\n",
    "          ['Falsos Negativos\\n', 'Verdaderos Positivos\\n']]\n",
    "\n",
    "# Crear una nueva matriz combinando la matriz de confusión y las etiquetas\n",
    "annot_matrix = [['{} {}'.format(label, value) for label, value in zip(row_labels, row)] for row_labels, row in zip(labels, conf_matrix)]\n",
    "\n",
    "# Crear un mapa de calor con Seaborn\n",
    "plt.figure(figsize=(8, 6))\n",
    "sns.heatmap(conf_matrix, annot=annot_matrix, cmap='Blues', fmt='', cbar=False, annot_kws={'size':14})\n",
    "plt.title('Matriz de Confusión', fontsize=16)\n",
    "plt.show()\n",
    "\n",
    "print(\"Accuracy:\\t{:.2%}\".format(accuracy))\n",
    "print(\"Sensitivity:\\t{:.2%}\".format(sensitivity))\n",
    "print(\"Specificity:\\t{:.2%}\".format(specificity))\n",
    "print(\"Precision:\\t{:.2%}\".format(precision))\n",
    "print(\"F1-score:\\t{:.2%}\".format(f1))"
   ]
  },
  {
   "cell_type": "markdown",
   "metadata": {},
   "source": [
    "Validación cruzada"
   ]
  },
  {
   "cell_type": "code",
   "execution_count": 11,
   "metadata": {},
   "outputs": [
    {
     "name": "stdout",
     "output_type": "stream",
     "text": [
      "13/13 [==============================] - 1s 31ms/step\n",
      "13/13 [==============================] - 0s 31ms/step\n",
      "13/13 [==============================] - 1s 36ms/step\n",
      "13/13 [==============================] - 0s 33ms/step\n",
      "13/13 [==============================] - 0s 33ms/step\n",
      "13/13 [==============================] - 0s 33ms/step\n",
      "13/13 [==============================] - 0s 30ms/step\n",
      "13/13 [==============================] - 0s 30ms/step\n",
      "13/13 [==============================] - 1s 42ms/step\n",
      "13/13 [==============================] - 1s 61ms/step\n"
     ]
    }
   ],
   "source": [
    "#Se define el número de pliegues para la validación cruzada\n",
    "n_folds = 10\n",
    "\n",
    "#Inicializar las listas para almacenar las métricas de evaluación en cada pliegue\n",
    "accuracy_scores = []\n",
    "precision_scores = []\n",
    "recall_scores = []\n",
    "f1_scores = []\n",
    "specificity_scores = []\n",
    "\n",
    "#Inicializar StratifiedKFold\n",
    "skf = StratifiedKFold(n_splits=n_folds, shuffle=True, random_state=42)\n",
    "\n",
    "#Iterar sobre cada pliegue\n",
    "for train_index, test_index in skf.split(X=X, y=y):\n",
    "    X_train_fold, X_test_fold = X.values[train_index], X.values[test_index]\n",
    "    y_train_fold, y_test_fold = y[train_index], y[test_index]\n",
    "\n",
    "    #Estandarizar los datos\n",
    "    scaler_ = StandardScaler()\n",
    "    X_train_fold_scaled = scaler_.fit_transform(X_train_fold)\n",
    "    X_test_fold_scaled = scaler_.transform(X_test_fold)\n",
    "\n",
    "    #Cambiar de forma para que tengan la forma adecuada para la convolución\n",
    "    X_train_fold_reshaped = X_train_fold_scaled.reshape(X_train_fold_scaled.shape[0], X_train_fold_scaled.shape[1], 1)\n",
    "    X_test_fold_reshaped = X_test_fold_scaled.reshape(X_test_fold_scaled.shape[0], X_test_fold_scaled.shape[1], 1)\n",
    "\n",
    "    #Entrenar el modelo con el pliegue actual\n",
    "    modelo.fit(X_train_fold_reshaped, y_train_fold, epochs=40, batch_size=64, validation_data=(X_test_fold_reshaped, y_test_fold), verbose=0)\n",
    "\n",
    "    # Evaluar el modelo en el pliegue actual\n",
    "    y_pred_fold = modelo.predict(X_test_fold_reshaped)\n",
    "    #Convertir las probabilidades en clases binarias usando un umbral (por ejemplo, 0.85)\n",
    "    y_pred_fold = (y_pred_fold > 0.85).astype(int)  \n",
    "\n",
    "    #Métricas de desempeño\n",
    "    conf_matriz = confusion_matrix(y_test_fold, y_pred_fold)\n",
    "    tn, fp, fn, tp = conf_matriz.ravel()\n",
    "    specificity_scores.append(tn/(tn+fp))\n",
    "    accuracy_scores.append(accuracy_score(y_test_fold, y_pred_fold))\n",
    "    precision_scores.append(precision_score(y_test_fold, y_pred_fold, average='weighted'))\n",
    "    recall_scores.append(recall_score(y_test_fold, y_pred_fold, average='weighted'))\n",
    "    f1_scores.append(f1_score(y_test_fold, y_pred_fold, average='weighted'))"
   ]
  },
  {
   "cell_type": "code",
   "execution_count": 12,
   "metadata": {},
   "outputs": [
    {
     "name": "stdout",
     "output_type": "stream",
     "text": [
      "mean Accuracy:\t\t0.92\t\tstd:\t0.07\n",
      "mean Sensitivity:\t0.92\t\tstd:\t0.07\n",
      "mean Precision:\t\t0.93\t\tstd:\t0.05\n",
      "mean F1-score:\t\t0.92\t\tstd:\t0.07\n",
      "mean Specificity:\t0.99\t\tstd:\t0.02\n"
     ]
    }
   ],
   "source": [
    "#Calcular los promedios de las métricas\n",
    "mean_accuracy       = np.mean(accuracy_scores)\n",
    "mean_recall         = np.mean(recall_scores)\n",
    "mean_specificity    = np.mean(specificity_scores)\n",
    "mean_precision      = np.mean(precision_scores)\n",
    "mean_f1             = np.mean(f1_scores)\n",
    "\n",
    "#Calcular las desviaciones estandar\n",
    "std_accuracy    = np.std(accuracy_scores)\n",
    "std_recall      = np.std(recall_scores)\n",
    "std_specificity = np.std(specificity_scores)\n",
    "std_precision   = np.std(precision_scores)\n",
    "std_f1          = np.std(f1_scores)\n",
    "\n",
    "# Imprimir los resultados\n",
    "print(\"mean Accuracy:\\t\\t{:.2f}\\t\\tstd:\\t{:.2f}\".format(mean_accuracy, std_accuracy))\n",
    "print(\"mean Sensitivity:\\t{:.2f}\\t\\tstd:\\t{:.2f}\".format(mean_recall, std_recall))\n",
    "print(\"mean Precision:\\t\\t{:.2f}\\t\\tstd:\\t{:.2f}\".format(mean_precision, std_precision))\n",
    "print(\"mean F1-score:\\t\\t{:.2f}\\t\\tstd:\\t{:.2f}\".format(mean_f1, std_f1))\n",
    "print(\"mean Specificity:\\t{:.2f}\\t\\tstd:\\t{:.2f}\".format(mean_specificity, std_specificity))"
   ]
  },
  {
   "cell_type": "markdown",
   "metadata": {},
   "source": [
    "## **Parte 5:** Guardar el modelo"
   ]
  },
  {
   "cell_type": "markdown",
   "metadata": {},
   "source": [
    "Se guarda el modelo con su puntaje de sensibilidad"
   ]
  },
  {
   "cell_type": "code",
   "execution_count": 13,
   "metadata": {},
   "outputs": [],
   "source": [
    "modelo.save(filepath=\"modelos/modelo_sensibilidad_{:.2f}.h5\".format(mean_recall))"
   ]
  }
 ],
 "metadata": {
  "kernelspec": {
   "display_name": "venv",
   "language": "python",
   "name": "python3"
  },
  "language_info": {
   "codemirror_mode": {
    "name": "ipython",
    "version": 3
   },
   "file_extension": ".py",
   "mimetype": "text/x-python",
   "name": "python",
   "nbconvert_exporter": "python",
   "pygments_lexer": "ipython3",
   "version": "3.9.13"
  }
 },
 "nbformat": 4,
 "nbformat_minor": 2
}
