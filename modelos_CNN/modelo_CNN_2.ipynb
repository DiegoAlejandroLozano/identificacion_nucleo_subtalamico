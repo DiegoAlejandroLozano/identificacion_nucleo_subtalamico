{
 "cells": [
  {
   "cell_type": "code",
   "execution_count": 18,
   "metadata": {},
   "outputs": [],
   "source": [
    "from keras.models import Sequential\n",
    "from keras.layers import Convolution2D        \n",
    "from keras.layers import MaxPooling2D       \n",
    "from keras.layers import Flatten            \n",
    "from keras.layers import Dense \n",
    "from keras.layers import Dropout\n",
    "\n",
    "from keras.preprocessing.image import ImageDataGenerator\n",
    "\n",
    "from tensorflow.keras.preprocessing import image\n",
    "import numpy as np"
   ]
  },
  {
   "cell_type": "code",
   "execution_count": 19,
   "metadata": {},
   "outputs": [],
   "source": [
    "clasificador = Sequential()"
   ]
  },
  {
   "cell_type": "code",
   "execution_count": 20,
   "metadata": {},
   "outputs": [],
   "source": [
    "clasificador.add(Convolution2D(\n",
    "    filters=16,\n",
    "    kernel_size=(5,5),\n",
    "    input_shape = (250, 250, 3),\n",
    "    activation=\"relu\"\n",
    "))\n",
    "\n",
    "clasificador.add(MaxPooling2D(pool_size=(4,4)))\n",
    "\n",
    "clasificador.add(Convolution2D(\n",
    "    filters=32,\n",
    "    kernel_size=(5,5),\n",
    "    activation=\"relu\"\n",
    "))\n",
    "\n",
    "clasificador.add(MaxPooling2D(pool_size=(4,4)))"
   ]
  },
  {
   "cell_type": "code",
   "execution_count": 21,
   "metadata": {},
   "outputs": [],
   "source": [
    "clasificador.add(Flatten())"
   ]
  },
  {
   "cell_type": "code",
   "execution_count": 22,
   "metadata": {},
   "outputs": [],
   "source": [
    "clasificador.add(Dense(\n",
    "    units=16,\n",
    "    activation=\"relu\"\n",
    "))\n",
    "\n",
    "clasificador.add(Dropout(rate=0.5))"
   ]
  },
  {
   "cell_type": "code",
   "execution_count": 23,
   "metadata": {},
   "outputs": [],
   "source": [
    "clasificador.add(Dense(\n",
    "    units=1,\n",
    "    activation=\"sigmoid\"\n",
    "))"
   ]
  },
  {
   "cell_type": "code",
   "execution_count": 24,
   "metadata": {},
   "outputs": [],
   "source": [
    "clasificador.compile(\n",
    "    optimizer = \"adam\",\n",
    "    loss = \"binary_crossentropy\",\n",
    "    metrics = [\"accuracy\"]\n",
    ")"
   ]
  },
  {
   "cell_type": "code",
   "execution_count": 25,
   "metadata": {},
   "outputs": [
    {
     "name": "stdout",
     "output_type": "stream",
     "text": [
      "Found 3200 images belonging to 2 classes.\n",
      "Found 800 images belonging to 2 classes.\n",
      "Epoch 1/20\n",
      "32/32 [==============================] - 180s 6s/step - loss: 0.7109 - accuracy: 0.5291 - val_loss: 0.6521 - val_accuracy: 0.7000\n",
      "Epoch 2/20\n",
      "32/32 [==============================] - 192s 6s/step - loss: 0.6596 - accuracy: 0.6166 - val_loss: 0.6188 - val_accuracy: 0.7050\n",
      "Epoch 3/20\n",
      "32/32 [==============================] - 193s 6s/step - loss: 0.6440 - accuracy: 0.6403 - val_loss: 0.6246 - val_accuracy: 0.7150\n",
      "Epoch 4/20\n",
      "32/32 [==============================] - 193s 6s/step - loss: 0.6282 - accuracy: 0.6384 - val_loss: 0.6002 - val_accuracy: 0.7075\n",
      "Epoch 5/20\n",
      "32/32 [==============================] - 195s 6s/step - loss: 0.6145 - accuracy: 0.6766 - val_loss: 0.5726 - val_accuracy: 0.7175\n",
      "Epoch 6/20\n",
      "32/32 [==============================] - 208s 7s/step - loss: 0.6112 - accuracy: 0.6750 - val_loss: 0.5658 - val_accuracy: 0.7412\n",
      "Epoch 7/20\n",
      "32/32 [==============================] - 186s 6s/step - loss: 0.5862 - accuracy: 0.7150 - val_loss: 0.5552 - val_accuracy: 0.7387\n",
      "Epoch 8/20\n",
      "32/32 [==============================] - 226s 7s/step - loss: 0.5713 - accuracy: 0.7350 - val_loss: 0.5179 - val_accuracy: 0.7788\n",
      "Epoch 9/20\n",
      "32/32 [==============================] - 192s 6s/step - loss: 0.5535 - accuracy: 0.7522 - val_loss: 0.4917 - val_accuracy: 0.7887\n",
      "Epoch 10/20\n",
      "32/32 [==============================] - 231s 7s/step - loss: 0.5351 - accuracy: 0.7734 - val_loss: 0.4840 - val_accuracy: 0.8150\n",
      "Epoch 11/20\n",
      "32/32 [==============================] - 211s 7s/step - loss: 0.5169 - accuracy: 0.7816 - val_loss: 0.4896 - val_accuracy: 0.8000\n",
      "Epoch 12/20\n",
      "32/32 [==============================] - 237s 7s/step - loss: 0.5110 - accuracy: 0.7800 - val_loss: 0.4625 - val_accuracy: 0.8250\n",
      "Epoch 13/20\n",
      "32/32 [==============================] - 225s 7s/step - loss: 0.4996 - accuracy: 0.7925 - val_loss: 0.4443 - val_accuracy: 0.8388\n",
      "Epoch 14/20\n",
      "32/32 [==============================] - 189s 6s/step - loss: 0.4773 - accuracy: 0.8069 - val_loss: 0.4247 - val_accuracy: 0.8300\n",
      "Epoch 15/20\n",
      "32/32 [==============================] - 189s 6s/step - loss: 0.4536 - accuracy: 0.8169 - val_loss: 0.4255 - val_accuracy: 0.8325\n",
      "Epoch 16/20\n",
      "32/32 [==============================] - 219s 7s/step - loss: 0.4579 - accuracy: 0.8181 - val_loss: 0.4155 - val_accuracy: 0.8450\n",
      "Epoch 17/20\n",
      "32/32 [==============================] - 230s 7s/step - loss: 0.4416 - accuracy: 0.8225 - val_loss: 0.4212 - val_accuracy: 0.8450\n",
      "Epoch 18/20\n",
      "32/32 [==============================] - 209s 7s/step - loss: 0.4243 - accuracy: 0.8359 - val_loss: 0.4074 - val_accuracy: 0.8512\n",
      "Epoch 19/20\n",
      "32/32 [==============================] - 198s 6s/step - loss: 0.4273 - accuracy: 0.8300 - val_loss: 0.4103 - val_accuracy: 0.8537\n",
      "Epoch 20/20\n",
      "32/32 [==============================] - 186s 6s/step - loss: 0.4076 - accuracy: 0.8428 - val_loss: 0.4003 - val_accuracy: 0.8512\n"
     ]
    },
    {
     "data": {
      "text/plain": [
       "<keras.callbacks.History at 0x18f70a5aa30>"
      ]
     },
     "execution_count": 25,
     "metadata": {},
     "output_type": "execute_result"
    }
   ],
   "source": [
    "train_datagen = ImageDataGenerator(rescale=1./255)\n",
    "test_datagen = ImageDataGenerator(rescale=1./255)\n",
    "\n",
    "train_dataset = train_datagen.flow_from_directory(\n",
    "    directory=\"../imagenes/mexh/training_set/\",\n",
    "    target_size=(250, 250),\n",
    "    batch_size=100,\n",
    "    class_mode='binary'\n",
    ")\n",
    "\n",
    "test_dataset = test_datagen.flow_from_directory(\n",
    "    directory=\"../imagenes/mexh/test_set/\",\n",
    "    target_size=(250, 250),\n",
    "    batch_size=50,\n",
    "    class_mode='binary'\n",
    ")\n",
    "\n",
    "clasificador.fit(\n",
    "    train_dataset,\n",
    "    steps_per_epoch=32,\n",
    "    epochs=20,\n",
    "    validation_data=test_dataset,\n",
    "    validation_steps=16\n",
    ")"
   ]
  }
 ],
 "metadata": {
  "kernelspec": {
   "display_name": "venv",
   "language": "python",
   "name": "python3"
  },
  "language_info": {
   "codemirror_mode": {
    "name": "ipython",
    "version": 3
   },
   "file_extension": ".py",
   "mimetype": "text/x-python",
   "name": "python",
   "nbconvert_exporter": "python",
   "pygments_lexer": "ipython3",
   "version": "3.9.13"
  }
 },
 "nbformat": 4,
 "nbformat_minor": 2
}
