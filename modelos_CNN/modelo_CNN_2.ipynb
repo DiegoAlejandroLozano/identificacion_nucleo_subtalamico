{
 "cells": [
  {
   "cell_type": "code",
   "execution_count": 1,
   "metadata": {},
   "outputs": [],
   "source": [
    "from keras.models import Sequential\n",
    "from keras.layers import Convolution2D        \n",
    "from keras.layers import MaxPooling2D       \n",
    "from keras.layers import Flatten            \n",
    "from keras.layers import Dense \n",
    "from keras.layers import Dropout\n",
    "\n",
    "from keras.preprocessing.image import ImageDataGenerator\n",
    "\n",
    "from tensorflow.keras.preprocessing import image\n",
    "import numpy as np"
   ]
  },
  {
   "cell_type": "code",
   "execution_count": 2,
   "metadata": {},
   "outputs": [],
   "source": [
    "clasificador = Sequential()"
   ]
  },
  {
   "cell_type": "code",
   "execution_count": 3,
   "metadata": {},
   "outputs": [],
   "source": [
    "clasificador.add(Convolution2D(\n",
    "    filters=16,\n",
    "    kernel_size=(5,5),\n",
    "    input_shape = (250, 250, 3),\n",
    "    activation=\"relu\"\n",
    "))\n",
    "\n",
    "clasificador.add(MaxPooling2D(pool_size=(4,4)))\n",
    "\n",
    "clasificador.add(Convolution2D(\n",
    "    filters=32,\n",
    "    kernel_size=(5,5),\n",
    "    activation=\"relu\"\n",
    "))\n",
    "\n",
    "clasificador.add(MaxPooling2D(pool_size=(4,4)))"
   ]
  },
  {
   "cell_type": "code",
   "execution_count": 4,
   "metadata": {},
   "outputs": [],
   "source": [
    "clasificador.add(Flatten())"
   ]
  },
  {
   "cell_type": "code",
   "execution_count": 5,
   "metadata": {},
   "outputs": [],
   "source": [
    "clasificador.add(Dense(\n",
    "    units=16,\n",
    "    activation=\"relu\"\n",
    "))\n",
    "\n",
    "clasificador.add(Dropout(rate=0.5))"
   ]
  },
  {
   "cell_type": "code",
   "execution_count": 6,
   "metadata": {},
   "outputs": [],
   "source": [
    "clasificador.add(Dense(\n",
    "    units=1,\n",
    "    activation=\"sigmoid\"\n",
    "))"
   ]
  },
  {
   "cell_type": "code",
   "execution_count": 7,
   "metadata": {},
   "outputs": [],
   "source": [
    "clasificador.compile(\n",
    "    optimizer = \"adam\",\n",
    "    loss = \"binary_crossentropy\",\n",
    "    metrics = [\"accuracy\"]\n",
    ")"
   ]
  },
  {
   "cell_type": "code",
   "execution_count": 8,
   "metadata": {},
   "outputs": [
    {
     "name": "stdout",
     "output_type": "stream",
     "text": [
      "Found 3200 images belonging to 2 classes.\n",
      "Found 800 images belonging to 2 classes.\n",
      "Epoch 1/20\n",
      "32/32 [==============================] - 230s 7s/step - loss: 0.6800 - accuracy: 0.5691 - val_loss: 0.6486 - val_accuracy: 0.6612\n",
      "Epoch 2/20\n",
      "32/32 [==============================] - 210s 7s/step - loss: 0.6383 - accuracy: 0.6288 - val_loss: 0.5846 - val_accuracy: 0.6988\n",
      "Epoch 3/20\n",
      "32/32 [==============================] - 213s 7s/step - loss: 0.5955 - accuracy: 0.6509 - val_loss: 0.5438 - val_accuracy: 0.7100\n",
      "Epoch 4/20\n",
      "32/32 [==============================] - 203s 6s/step - loss: 0.5731 - accuracy: 0.6747 - val_loss: 0.5315 - val_accuracy: 0.7063\n",
      "Epoch 5/20\n",
      "32/32 [==============================] - 214s 7s/step - loss: 0.5589 - accuracy: 0.6784 - val_loss: 0.5159 - val_accuracy: 0.7188\n",
      "Epoch 6/20\n",
      "32/32 [==============================] - 197s 6s/step - loss: 0.5507 - accuracy: 0.6794 - val_loss: 0.5204 - val_accuracy: 0.7188\n",
      "Epoch 7/20\n",
      "32/32 [==============================] - 200s 6s/step - loss: 0.5279 - accuracy: 0.7069 - val_loss: 0.5026 - val_accuracy: 0.7237\n",
      "Epoch 8/20\n",
      "32/32 [==============================] - 202s 6s/step - loss: 0.5237 - accuracy: 0.7147 - val_loss: 0.4969 - val_accuracy: 0.7837\n",
      "Epoch 9/20\n",
      "32/32 [==============================] - 190s 6s/step - loss: 0.5079 - accuracy: 0.7275 - val_loss: 0.4746 - val_accuracy: 0.8000\n",
      "Epoch 10/20\n",
      "32/32 [==============================] - 195s 6s/step - loss: 0.5043 - accuracy: 0.7259 - val_loss: 0.4918 - val_accuracy: 0.7862\n",
      "Epoch 11/20\n",
      "32/32 [==============================] - 202s 6s/step - loss: 0.5067 - accuracy: 0.7225 - val_loss: 0.4798 - val_accuracy: 0.8225\n",
      "Epoch 12/20\n",
      "32/32 [==============================] - 182s 6s/step - loss: 0.4784 - accuracy: 0.7387 - val_loss: 0.4607 - val_accuracy: 0.8275\n",
      "Epoch 13/20\n",
      "32/32 [==============================] - 190s 6s/step - loss: 0.4708 - accuracy: 0.7547 - val_loss: 0.4424 - val_accuracy: 0.8325\n",
      "Epoch 14/20\n",
      "32/32 [==============================] - 183s 6s/step - loss: 0.4506 - accuracy: 0.7559 - val_loss: 0.5020 - val_accuracy: 0.7788\n",
      "Epoch 15/20\n",
      "32/32 [==============================] - 170s 5s/step - loss: 0.4550 - accuracy: 0.7553 - val_loss: 0.4362 - val_accuracy: 0.8200\n",
      "Epoch 16/20\n",
      "32/32 [==============================] - 177s 6s/step - loss: 0.4544 - accuracy: 0.7581 - val_loss: 0.4263 - val_accuracy: 0.8313\n",
      "Epoch 17/20\n",
      "32/32 [==============================] - 214s 7s/step - loss: 0.4414 - accuracy: 0.7641 - val_loss: 0.4245 - val_accuracy: 0.8263\n",
      "Epoch 18/20\n",
      "32/32 [==============================] - 170s 5s/step - loss: 0.4271 - accuracy: 0.7703 - val_loss: 0.4228 - val_accuracy: 0.8263\n",
      "Epoch 19/20\n",
      "32/32 [==============================] - 184s 6s/step - loss: 0.4297 - accuracy: 0.7731 - val_loss: 0.4123 - val_accuracy: 0.8462\n",
      "Epoch 20/20\n",
      "32/32 [==============================] - 182s 6s/step - loss: 0.4163 - accuracy: 0.7700 - val_loss: 0.4482 - val_accuracy: 0.8238\n"
     ]
    },
    {
     "data": {
      "text/plain": [
       "<keras.callbacks.History at 0x1be7a3c8d00>"
      ]
     },
     "execution_count": 8,
     "metadata": {},
     "output_type": "execute_result"
    }
   ],
   "source": [
    "train_datagen = ImageDataGenerator(rescale=1./255)\n",
    "test_datagen = ImageDataGenerator(rescale=1./255)\n",
    "\n",
    "train_dataset = train_datagen.flow_from_directory(\n",
    "    directory=\"../imagenes/mexh/training_set/\",\n",
    "    target_size=(250, 250),\n",
    "    batch_size=100,\n",
    "    class_mode='binary'\n",
    ")\n",
    "\n",
    "test_dataset = test_datagen.flow_from_directory(\n",
    "    directory=\"../imagenes/mexh/test_set/\",\n",
    "    target_size=(250, 250),\n",
    "    batch_size=50,\n",
    "    class_mode='binary'\n",
    ")\n",
    "\n",
    "clasificador.fit(\n",
    "    train_dataset,\n",
    "    steps_per_epoch=32,\n",
    "    epochs=20,\n",
    "    validation_data=test_dataset,\n",
    "    validation_steps=16\n",
    ")"
   ]
  }
 ],
 "metadata": {
  "kernelspec": {
   "display_name": "venv",
   "language": "python",
   "name": "python3"
  },
  "language_info": {
   "codemirror_mode": {
    "name": "ipython",
    "version": 3
   },
   "file_extension": ".py",
   "mimetype": "text/x-python",
   "name": "python",
   "nbconvert_exporter": "python",
   "pygments_lexer": "ipython3",
   "version": "3.9.13"
  }
 },
 "nbformat": 4,
 "nbformat_minor": 2
}
