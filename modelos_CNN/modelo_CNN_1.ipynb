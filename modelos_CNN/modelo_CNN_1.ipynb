{
 "cells": [
  {
   "cell_type": "code",
   "execution_count": 9,
   "metadata": {},
   "outputs": [],
   "source": [
    "from keras.models import Sequential\n",
    "from keras.layers import Convolution2D        \n",
    "from keras.layers import MaxPooling2D       \n",
    "from keras.layers import Flatten            \n",
    "from keras.layers import Dense \n",
    "from keras.layers import Dropout\n",
    "\n",
    "from keras.preprocessing.image import ImageDataGenerator\n",
    "\n",
    "from tensorflow.keras.preprocessing import image\n",
    "import numpy as np"
   ]
  },
  {
   "cell_type": "code",
   "execution_count": 10,
   "metadata": {},
   "outputs": [],
   "source": [
    "clasificador = Sequential()"
   ]
  },
  {
   "cell_type": "code",
   "execution_count": 11,
   "metadata": {},
   "outputs": [],
   "source": [
    "clasificador.add(Convolution2D(\n",
    "    filters=16,\n",
    "    kernel_size=(5,5),\n",
    "    input_shape = (500, 500, 3),\n",
    "    activation=\"relu\"\n",
    "))\n",
    "\n",
    "clasificador.add(MaxPooling2D(pool_size=(4,4)))\n",
    "\n",
    "clasificador.add(Convolution2D(\n",
    "    filters=32,\n",
    "    kernel_size=(5,5),\n",
    "    activation=\"relu\"\n",
    "))\n",
    "\n",
    "clasificador.add(MaxPooling2D(pool_size=(4,4)))"
   ]
  },
  {
   "cell_type": "code",
   "execution_count": 12,
   "metadata": {},
   "outputs": [],
   "source": [
    "clasificador.add(Flatten())"
   ]
  },
  {
   "cell_type": "code",
   "execution_count": 13,
   "metadata": {},
   "outputs": [],
   "source": [
    "clasificador.add(Dense(\n",
    "    units=16,\n",
    "    activation=\"relu\"\n",
    "))\n",
    "\n",
    "clasificador.add(Dropout(rate=0.5))"
   ]
  },
  {
   "cell_type": "code",
   "execution_count": 14,
   "metadata": {},
   "outputs": [],
   "source": [
    "clasificador.add(Dense(\n",
    "    units=1,\n",
    "    activation=\"sigmoid\"\n",
    "))"
   ]
  },
  {
   "cell_type": "code",
   "execution_count": 15,
   "metadata": {},
   "outputs": [],
   "source": [
    "clasificador.compile(\n",
    "    optimizer = \"adam\",\n",
    "    loss = \"binary_crossentropy\",\n",
    "    metrics = [\"accuracy\"]\n",
    ")"
   ]
  },
  {
   "cell_type": "code",
   "execution_count": 16,
   "metadata": {},
   "outputs": [
    {
     "name": "stdout",
     "output_type": "stream",
     "text": [
      "Found 3200 images belonging to 2 classes.\n",
      "Found 800 images belonging to 2 classes.\n"
     ]
    },
    {
     "name": "stderr",
     "output_type": "stream",
     "text": [
      "C:\\Users\\diego\\AppData\\Local\\Temp\\ipykernel_5888\\292654781.py:18: UserWarning: `Model.fit_generator` is deprecated and will be removed in a future version. Please use `Model.fit`, which supports generators.\n",
      "  clasificador.fit_generator(\n"
     ]
    },
    {
     "name": "stdout",
     "output_type": "stream",
     "text": [
      "Epoch 1/25\n",
      "160/160 [==============================] - 829s 5s/step - loss: 0.6828 - accuracy: 0.5909 - val_loss: 0.6392 - val_accuracy: 0.6913\n",
      "Epoch 2/25\n",
      "160/160 [==============================] - 824s 5s/step - loss: 0.5896 - accuracy: 0.7009 - val_loss: 0.5072 - val_accuracy: 0.7713\n",
      "Epoch 3/25\n",
      "160/160 [==============================] - 826s 5s/step - loss: 0.5339 - accuracy: 0.7334 - val_loss: 0.5126 - val_accuracy: 0.7513\n",
      "Epoch 4/25\n",
      "160/160 [==============================] - 840s 5s/step - loss: 0.4956 - accuracy: 0.7634 - val_loss: 0.4762 - val_accuracy: 0.7837\n",
      "Epoch 5/25\n",
      "160/160 [==============================] - 823s 5s/step - loss: 0.4723 - accuracy: 0.7747 - val_loss: 0.4646 - val_accuracy: 0.7812\n",
      "Epoch 6/25\n",
      "160/160 [==============================] - 822s 5s/step - loss: 0.4219 - accuracy: 0.8009 - val_loss: 0.4538 - val_accuracy: 0.7887\n",
      "Epoch 7/25\n",
      "160/160 [==============================] - 822s 5s/step - loss: 0.4140 - accuracy: 0.8062 - val_loss: 0.4410 - val_accuracy: 0.8012\n",
      "Epoch 8/25\n",
      "160/160 [==============================] - 828s 5s/step - loss: 0.3852 - accuracy: 0.8191 - val_loss: 0.4471 - val_accuracy: 0.7975\n",
      "Epoch 9/25\n",
      "160/160 [==============================] - 816s 5s/step - loss: 0.3394 - accuracy: 0.8347 - val_loss: 0.4631 - val_accuracy: 0.8025\n",
      "Epoch 10/25\n",
      "160/160 [==============================] - 810s 5s/step - loss: 0.3258 - accuracy: 0.8416 - val_loss: 0.5528 - val_accuracy: 0.7462\n",
      "Epoch 11/25\n",
      "160/160 [==============================] - 810s 5s/step - loss: 0.3190 - accuracy: 0.8487 - val_loss: 0.4896 - val_accuracy: 0.7987\n",
      "Epoch 12/25\n",
      "160/160 [==============================] - 806s 5s/step - loss: 0.2904 - accuracy: 0.8587 - val_loss: 0.4693 - val_accuracy: 0.7937\n",
      "Epoch 13/25\n",
      "160/160 [==============================] - 800s 5s/step - loss: 0.2756 - accuracy: 0.8634 - val_loss: 0.5891 - val_accuracy: 0.8012\n",
      "Epoch 14/25\n",
      "160/160 [==============================] - 763s 5s/step - loss: 0.2506 - accuracy: 0.8734 - val_loss: 0.6092 - val_accuracy: 0.7962\n",
      "Epoch 15/25\n",
      "160/160 [==============================] - 770s 5s/step - loss: 0.2337 - accuracy: 0.8703 - val_loss: 0.5915 - val_accuracy: 0.8050\n",
      "Epoch 16/25\n",
      "160/160 [==============================] - 770s 5s/step - loss: 0.2234 - accuracy: 0.8853 - val_loss: 0.6264 - val_accuracy: 0.7837\n",
      "Epoch 17/25\n",
      "160/160 [==============================] - 764s 5s/step - loss: 0.2080 - accuracy: 0.8897 - val_loss: 0.7084 - val_accuracy: 0.7850\n",
      "Epoch 18/25\n",
      "160/160 [==============================] - 758s 5s/step - loss: 0.2202 - accuracy: 0.8891 - val_loss: 0.7465 - val_accuracy: 0.7825\n",
      "Epoch 19/25\n",
      "160/160 [==============================] - 752s 5s/step - loss: 0.2129 - accuracy: 0.8953 - val_loss: 0.7037 - val_accuracy: 0.7887\n",
      "Epoch 20/25\n",
      "160/160 [==============================] - 733s 5s/step - loss: 0.1891 - accuracy: 0.9031 - val_loss: 0.8895 - val_accuracy: 0.7775\n",
      "Epoch 21/25\n",
      "160/160 [==============================] - 736s 5s/step - loss: 0.1956 - accuracy: 0.8941 - val_loss: 0.7915 - val_accuracy: 0.7800\n",
      "Epoch 22/25\n",
      "160/160 [==============================] - 725s 5s/step - loss: 0.1905 - accuracy: 0.8953 - val_loss: 0.8615 - val_accuracy: 0.7763\n",
      "Epoch 23/25\n",
      "160/160 [==============================] - 720s 4s/step - loss: 0.1855 - accuracy: 0.8975 - val_loss: 0.8770 - val_accuracy: 0.7887\n",
      "Epoch 24/25\n",
      "160/160 [==============================] - 742s 5s/step - loss: 0.1758 - accuracy: 0.8991 - val_loss: 0.8429 - val_accuracy: 0.7862\n",
      "Epoch 25/25\n",
      "160/160 [==============================] - 741s 5s/step - loss: 0.1751 - accuracy: 0.9006 - val_loss: 0.7987 - val_accuracy: 0.7875\n"
     ]
    },
    {
     "data": {
      "text/plain": [
       "<keras.callbacks.History at 0x1c6547fe0d0>"
      ]
     },
     "execution_count": 16,
     "metadata": {},
     "output_type": "execute_result"
    }
   ],
   "source": [
    "train_datagen = ImageDataGenerator(rescale=1./255)\n",
    "test_datagen = ImageDataGenerator(rescale=1./255)\n",
    "\n",
    "train_dataset = train_datagen.flow_from_directory(\n",
    "    directory=\"../imagenes/cgau1/training_set/\",\n",
    "    target_size=(500, 500),\n",
    "    batch_size=20,\n",
    "    class_mode='binary'\n",
    ")\n",
    "\n",
    "test_dataset = test_datagen.flow_from_directory(\n",
    "    directory=\"../imagenes/cgau1/test_set/\",\n",
    "    target_size=(500, 500),\n",
    "    batch_size=20,\n",
    "    class_mode='binary'\n",
    ")\n",
    "\n",
    "clasificador.fit_generator(\n",
    "    train_dataset,\n",
    "    steps_per_epoch=160,\n",
    "    epochs=25,\n",
    "    validation_data=test_dataset,\n",
    "    validation_steps=40\n",
    ")"
   ]
  }
 ],
 "metadata": {
  "kernelspec": {
   "display_name": "venv",
   "language": "python",
   "name": "python3"
  },
  "language_info": {
   "codemirror_mode": {
    "name": "ipython",
    "version": 3
   },
   "file_extension": ".py",
   "mimetype": "text/x-python",
   "name": "python",
   "nbconvert_exporter": "python",
   "pygments_lexer": "ipython3",
   "version": "3.9.13"
  }
 },
 "nbformat": 4,
 "nbformat_minor": 2
}
