{
 "cells": [
  {
   "cell_type": "code",
   "execution_count": 1,
   "metadata": {},
   "outputs": [],
   "source": [
    "import splitfolders"
   ]
  },
  {
   "cell_type": "code",
   "execution_count": 2,
   "metadata": {},
   "outputs": [
    {
     "name": "stderr",
     "output_type": "stream",
     "text": [
      "Copying files: 4000 files [00:11, 347.18 files/s]\n"
     ]
    }
   ],
   "source": [
    "# Ruta al directorio de origen que contiene las subcarpetas con imágenes de cada clase\n",
    "input_folder = 'imagenes/mexh/'\n",
    "\n",
    "# Ruta al directorio de salida donde se guardarán las carpetas divididas\n",
    "output_folder = 'imagenes2/mexh/'\n",
    "\n",
    "# Dividir las imágenes en carpetas de entrenamiento, validación y prueba con una proporción de 80%/10%/10%\n",
    "splitfolders.ratio(input_folder, output=output_folder, seed=1337, ratio=(.8, .1, .1))"
   ]
  }
 ],
 "metadata": {
  "kernelspec": {
   "display_name": "Python 3",
   "language": "python",
   "name": "python3"
  },
  "language_info": {
   "codemirror_mode": {
    "name": "ipython",
    "version": 3
   },
   "file_extension": ".py",
   "mimetype": "text/x-python",
   "name": "python",
   "nbconvert_exporter": "python",
   "pygments_lexer": "ipython3",
   "version": "3.10.0"
  }
 },
 "nbformat": 4,
 "nbformat_minor": 2
}
