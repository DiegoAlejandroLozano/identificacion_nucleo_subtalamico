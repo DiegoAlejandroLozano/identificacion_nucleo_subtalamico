{
 "cells": [
  {
   "cell_type": "markdown",
   "metadata": {},
   "source": [
    "## **Parte 1:** Importanción de librerías"
   ]
  },
  {
   "cell_type": "markdown",
   "metadata": {},
   "source": [
    "Suprimiendo los Warnings"
   ]
  },
  {
   "cell_type": "code",
   "execution_count": 1,
   "metadata": {},
   "outputs": [],
   "source": [
    "import warnings\n",
    "warnings.filterwarnings(\"ignore\")"
   ]
  },
  {
   "cell_type": "markdown",
   "metadata": {},
   "source": [
    "Importando las librerías necesarias"
   ]
  },
  {
   "cell_type": "code",
   "execution_count": 2,
   "metadata": {},
   "outputs": [],
   "source": [
    "import tensorflow as tf\n",
    "\n",
    "import pandas as pd\n",
    "import numpy as np\n",
    "import seaborn as sns\n",
    "import matplotlib.pyplot as plt\n",
    "\n",
    "from keras.models import Sequential\n",
    "from keras.layers import Conv1D, MaxPool1D, Flatten, Dense, Dropout\n",
    "from keras.optimizers import Adam\n",
    "\n",
    "from sklearn.preprocessing import StandardScaler\n",
    "from sklearn.model_selection import train_test_split, StratifiedKFold\n",
    "from sklearn.metrics import accuracy_score, precision_score, recall_score, f1_score, confusion_matrix\n"
   ]
  },
  {
   "cell_type": "code",
   "execution_count": 3,
   "metadata": {},
   "outputs": [],
   "source": [
    "# Configurar TensorFlow para usar la GPU\n",
    "physical_devices = tf.config.list_physical_devices('GPU')\n",
    "if physical_devices:\n",
    "    tf.config.experimental.set_memory_growth(physical_devices[0], True)"
   ]
  },
  {
   "cell_type": "markdown",
   "metadata": {},
   "source": [
    "## **Parte 2:** Cargando los datos"
   ]
  },
  {
   "cell_type": "code",
   "execution_count": 4,
   "metadata": {},
   "outputs": [
    {
     "data": {
      "text/html": [
       "<div>\n",
       "<style scoped>\n",
       "    .dataframe tbody tr th:only-of-type {\n",
       "        vertical-align: middle;\n",
       "    }\n",
       "\n",
       "    .dataframe tbody tr th {\n",
       "        vertical-align: top;\n",
       "    }\n",
       "\n",
       "    .dataframe thead th {\n",
       "        text-align: right;\n",
       "    }\n",
       "</style>\n",
       "<table border=\"1\" class=\"dataframe\">\n",
       "  <thead>\n",
       "    <tr style=\"text-align: right;\">\n",
       "      <th></th>\n",
       "      <th>muestra 1</th>\n",
       "      <th>muestra 2</th>\n",
       "      <th>muestra 3</th>\n",
       "      <th>muestra 4</th>\n",
       "      <th>muestra 5</th>\n",
       "      <th>muestra 6</th>\n",
       "      <th>muestra 7</th>\n",
       "      <th>muestra 8</th>\n",
       "      <th>muestra 9</th>\n",
       "      <th>muestra 10</th>\n",
       "      <th>...</th>\n",
       "      <th>muestra 2492</th>\n",
       "      <th>muestra 2493</th>\n",
       "      <th>muestra 2494</th>\n",
       "      <th>muestra 2495</th>\n",
       "      <th>muestra 2496</th>\n",
       "      <th>muestra 2497</th>\n",
       "      <th>muestra 2498</th>\n",
       "      <th>muestra 2499</th>\n",
       "      <th>muestra 2500</th>\n",
       "      <th>estructura</th>\n",
       "    </tr>\n",
       "  </thead>\n",
       "  <tbody>\n",
       "    <tr>\n",
       "      <th>0</th>\n",
       "      <td>-54</td>\n",
       "      <td>-14</td>\n",
       "      <td>-102</td>\n",
       "      <td>-286</td>\n",
       "      <td>-384</td>\n",
       "      <td>-379</td>\n",
       "      <td>-358</td>\n",
       "      <td>-340</td>\n",
       "      <td>-244</td>\n",
       "      <td>-144</td>\n",
       "      <td>...</td>\n",
       "      <td>45</td>\n",
       "      <td>100</td>\n",
       "      <td>58</td>\n",
       "      <td>31</td>\n",
       "      <td>1</td>\n",
       "      <td>-25</td>\n",
       "      <td>15</td>\n",
       "      <td>0</td>\n",
       "      <td>-4</td>\n",
       "      <td>1</td>\n",
       "    </tr>\n",
       "    <tr>\n",
       "      <th>1</th>\n",
       "      <td>-142</td>\n",
       "      <td>-242</td>\n",
       "      <td>-218</td>\n",
       "      <td>-144</td>\n",
       "      <td>-150</td>\n",
       "      <td>-214</td>\n",
       "      <td>-145</td>\n",
       "      <td>33</td>\n",
       "      <td>226</td>\n",
       "      <td>315</td>\n",
       "      <td>...</td>\n",
       "      <td>61</td>\n",
       "      <td>-59</td>\n",
       "      <td>-125</td>\n",
       "      <td>-86</td>\n",
       "      <td>70</td>\n",
       "      <td>162</td>\n",
       "      <td>234</td>\n",
       "      <td>189</td>\n",
       "      <td>151</td>\n",
       "      <td>1</td>\n",
       "    </tr>\n",
       "    <tr>\n",
       "      <th>2</th>\n",
       "      <td>2</td>\n",
       "      <td>7</td>\n",
       "      <td>15</td>\n",
       "      <td>27</td>\n",
       "      <td>47</td>\n",
       "      <td>45</td>\n",
       "      <td>-9</td>\n",
       "      <td>-75</td>\n",
       "      <td>-94</td>\n",
       "      <td>-71</td>\n",
       "      <td>...</td>\n",
       "      <td>-108</td>\n",
       "      <td>-81</td>\n",
       "      <td>-86</td>\n",
       "      <td>-27</td>\n",
       "      <td>-24</td>\n",
       "      <td>-11</td>\n",
       "      <td>-2</td>\n",
       "      <td>47</td>\n",
       "      <td>38</td>\n",
       "      <td>0</td>\n",
       "    </tr>\n",
       "    <tr>\n",
       "      <th>3</th>\n",
       "      <td>135</td>\n",
       "      <td>-96</td>\n",
       "      <td>-6</td>\n",
       "      <td>-100</td>\n",
       "      <td>10</td>\n",
       "      <td>-68</td>\n",
       "      <td>-138</td>\n",
       "      <td>-335</td>\n",
       "      <td>-373</td>\n",
       "      <td>-199</td>\n",
       "      <td>...</td>\n",
       "      <td>116</td>\n",
       "      <td>111</td>\n",
       "      <td>279</td>\n",
       "      <td>282</td>\n",
       "      <td>333</td>\n",
       "      <td>138</td>\n",
       "      <td>-17</td>\n",
       "      <td>-14</td>\n",
       "      <td>-200</td>\n",
       "      <td>0</td>\n",
       "    </tr>\n",
       "    <tr>\n",
       "      <th>4</th>\n",
       "      <td>-68</td>\n",
       "      <td>-91</td>\n",
       "      <td>67</td>\n",
       "      <td>119</td>\n",
       "      <td>83</td>\n",
       "      <td>128</td>\n",
       "      <td>-55</td>\n",
       "      <td>22</td>\n",
       "      <td>-139</td>\n",
       "      <td>-69</td>\n",
       "      <td>...</td>\n",
       "      <td>-18</td>\n",
       "      <td>17</td>\n",
       "      <td>157</td>\n",
       "      <td>255</td>\n",
       "      <td>322</td>\n",
       "      <td>467</td>\n",
       "      <td>188</td>\n",
       "      <td>298</td>\n",
       "      <td>199</td>\n",
       "      <td>0</td>\n",
       "    </tr>\n",
       "  </tbody>\n",
       "</table>\n",
       "<p>5 rows × 2501 columns</p>\n",
       "</div>"
      ],
      "text/plain": [
       "   muestra 1  muestra 2  muestra 3  muestra 4  muestra 5  muestra 6  \\\n",
       "0        -54        -14       -102       -286       -384       -379   \n",
       "1       -142       -242       -218       -144       -150       -214   \n",
       "2          2          7         15         27         47         45   \n",
       "3        135        -96         -6       -100         10        -68   \n",
       "4        -68        -91         67        119         83        128   \n",
       "\n",
       "   muestra 7  muestra 8  muestra 9  muestra 10  ...  muestra 2492  \\\n",
       "0       -358       -340       -244        -144  ...            45   \n",
       "1       -145         33        226         315  ...            61   \n",
       "2         -9        -75        -94         -71  ...          -108   \n",
       "3       -138       -335       -373        -199  ...           116   \n",
       "4        -55         22       -139         -69  ...           -18   \n",
       "\n",
       "   muestra 2493  muestra 2494  muestra 2495  muestra 2496  muestra 2497  \\\n",
       "0           100            58            31             1           -25   \n",
       "1           -59          -125           -86            70           162   \n",
       "2           -81           -86           -27           -24           -11   \n",
       "3           111           279           282           333           138   \n",
       "4            17           157           255           322           467   \n",
       "\n",
       "   muestra 2498  muestra 2499  muestra 2500  estructura  \n",
       "0            15             0            -4           1  \n",
       "1           234           189           151           1  \n",
       "2            -2            47            38           0  \n",
       "3           -17           -14          -200           0  \n",
       "4           188           298           199           0  \n",
       "\n",
       "[5 rows x 2501 columns]"
      ]
     },
     "execution_count": 4,
     "metadata": {},
     "output_type": "execute_result"
    }
   ],
   "source": [
    "df = pd.read_csv(\"../BD_procesada/BD_procesada.csv\", sep=\";\")\n",
    "df.head()"
   ]
  },
  {
   "cell_type": "markdown",
   "metadata": {},
   "source": [
    "## **Parte 3:** transformando los datos"
   ]
  },
  {
   "cell_type": "markdown",
   "metadata": {},
   "source": [
    "Diviendo el conjunto en entranimiento y prueba"
   ]
  },
  {
   "cell_type": "code",
   "execution_count": 5,
   "metadata": {},
   "outputs": [],
   "source": [
    "X = df.drop(columns=['estructura'], axis=1)\n",
    "y = df['estructura']\n",
    "X_train, X_test, y_train, y_test = train_test_split(X, y, test_size=0.2, random_state=42)"
   ]
  },
  {
   "cell_type": "markdown",
   "metadata": {},
   "source": [
    "Estandarizar los datos"
   ]
  },
  {
   "cell_type": "code",
   "execution_count": 6,
   "metadata": {},
   "outputs": [],
   "source": [
    "scaler = StandardScaler()\n",
    "X_train_scaled = scaler.fit_transform(X_train)\n",
    "X_test_scaled = scaler.transform(X_test)"
   ]
  },
  {
   "cell_type": "markdown",
   "metadata": {},
   "source": [
    "Reshape de los datos para que tengan la forma adecuada para la convolución (número de registros, longitud de los registros, número de características)"
   ]
  },
  {
   "cell_type": "code",
   "execution_count": 7,
   "metadata": {},
   "outputs": [],
   "source": [
    "X_train_reshaped = X_train_scaled.reshape(X_train_scaled.shape[0], X_train_scaled.shape[1], 1)\n",
    "X_test_reshaped = X_test_scaled.reshape(X_test_scaled.shape[0], X_test_scaled.shape[1], 1)"
   ]
  },
  {
   "cell_type": "markdown",
   "metadata": {},
   "source": [
    "## **Parte 4:** Modelo"
   ]
  },
  {
   "cell_type": "markdown",
   "metadata": {},
   "source": [
    "Creación de la estructura del modelo"
   ]
  },
  {
   "cell_type": "code",
   "execution_count": 8,
   "metadata": {},
   "outputs": [],
   "source": [
    "def estructura_modelo(x_train_) -> Sequential:\n",
    "    modelo_ = Sequential()\n",
    "\n",
    "    modelo_.add(Conv1D(filters=32, kernel_size=3, activation='relu', input_shape=(x_train_.shape[1], 1)))\n",
    "    modelo_.add(MaxPool1D(pool_size=2))\n",
    "\n",
    "    modelo_.add(Flatten())\n",
    "\n",
    "    modelo_.add(Dense(128, activation='relu'))\n",
    "    modelo_.add(Dropout(0.5))\n",
    "\n",
    "    modelo_.add(Dense(1, activation='sigmoid'))\n",
    "\n",
    "    return modelo_"
   ]
  },
  {
   "cell_type": "code",
   "execution_count": 9,
   "metadata": {},
   "outputs": [],
   "source": [
    "modelo = estructura_modelo(x_train_=X_train_reshaped)"
   ]
  },
  {
   "cell_type": "markdown",
   "metadata": {},
   "source": [
    "Compilación del modelo"
   ]
  },
  {
   "cell_type": "code",
   "execution_count": 10,
   "metadata": {},
   "outputs": [],
   "source": [
    "modelo.compile(optimizer=Adam(), loss = 'binary_crossentropy')"
   ]
  },
  {
   "cell_type": "markdown",
   "metadata": {},
   "source": [
    "Entrenando el modelo"
   ]
  },
  {
   "cell_type": "code",
   "execution_count": 11,
   "metadata": {},
   "outputs": [
    {
     "name": "stdout",
     "output_type": "stream",
     "text": [
      "Epoch 1/40\n",
      "45/45 [==============================] - 2s 9ms/step - loss: 0.9733 - val_loss: 0.6852\n",
      "Epoch 2/40\n",
      "45/45 [==============================] - 0s 6ms/step - loss: 0.6716 - val_loss: 0.6711\n",
      "Epoch 3/40\n",
      "45/45 [==============================] - 0s 5ms/step - loss: 0.6582 - val_loss: 0.6560\n",
      "Epoch 4/40\n",
      "45/45 [==============================] - 0s 6ms/step - loss: 0.6234 - val_loss: 0.6491\n",
      "Epoch 5/40\n",
      "45/45 [==============================] - 0s 6ms/step - loss: 0.5835 - val_loss: 0.6096\n",
      "Epoch 6/40\n",
      "45/45 [==============================] - 0s 5ms/step - loss: 0.5334 - val_loss: 0.5820\n",
      "Epoch 7/40\n",
      "45/45 [==============================] - 0s 6ms/step - loss: 0.4957 - val_loss: 0.5705\n",
      "Epoch 8/40\n",
      "45/45 [==============================] - 0s 6ms/step - loss: 0.4852 - val_loss: 0.5353\n",
      "Epoch 9/40\n",
      "45/45 [==============================] - 0s 6ms/step - loss: 0.4361 - val_loss: 0.5702\n",
      "Epoch 10/40\n",
      "45/45 [==============================] - 0s 7ms/step - loss: 0.4162 - val_loss: 0.5559\n",
      "Epoch 11/40\n",
      "45/45 [==============================] - 0s 6ms/step - loss: 0.3930 - val_loss: 0.6186\n",
      "Epoch 12/40\n",
      "45/45 [==============================] - 0s 6ms/step - loss: 0.3916 - val_loss: 0.5645\n",
      "Epoch 13/40\n",
      "45/45 [==============================] - 0s 7ms/step - loss: 0.3581 - val_loss: 0.5446\n",
      "Epoch 14/40\n",
      "45/45 [==============================] - 0s 8ms/step - loss: 0.3557 - val_loss: 0.5547\n",
      "Epoch 15/40\n",
      "45/45 [==============================] - 0s 6ms/step - loss: 0.3294 - val_loss: 0.6948\n",
      "Epoch 16/40\n",
      "45/45 [==============================] - 0s 6ms/step - loss: 0.3425 - val_loss: 0.5972\n",
      "Epoch 17/40\n",
      "45/45 [==============================] - 0s 6ms/step - loss: 0.3256 - val_loss: 0.6305\n",
      "Epoch 18/40\n",
      "45/45 [==============================] - 0s 6ms/step - loss: 0.3179 - val_loss: 0.6119\n",
      "Epoch 19/40\n",
      "45/45 [==============================] - 0s 6ms/step - loss: 0.2989 - val_loss: 0.7279\n",
      "Epoch 20/40\n",
      "45/45 [==============================] - 0s 6ms/step - loss: 0.2838 - val_loss: 0.7774\n",
      "Epoch 21/40\n",
      "45/45 [==============================] - 0s 6ms/step - loss: 0.2841 - val_loss: 0.6578\n",
      "Epoch 22/40\n",
      "45/45 [==============================] - 0s 5ms/step - loss: 0.2922 - val_loss: 0.7828\n",
      "Epoch 23/40\n",
      "45/45 [==============================] - 0s 6ms/step - loss: 0.2767 - val_loss: 0.7453\n",
      "Epoch 24/40\n",
      "45/45 [==============================] - 0s 5ms/step - loss: 0.2678 - val_loss: 0.7315\n",
      "Epoch 25/40\n",
      "45/45 [==============================] - 0s 6ms/step - loss: 0.2521 - val_loss: 0.8780\n",
      "Epoch 26/40\n",
      "45/45 [==============================] - 0s 5ms/step - loss: 0.2550 - val_loss: 0.9748\n",
      "Epoch 27/40\n",
      "45/45 [==============================] - 0s 5ms/step - loss: 0.2683 - val_loss: 0.8340\n",
      "Epoch 28/40\n",
      "45/45 [==============================] - 0s 5ms/step - loss: 0.2580 - val_loss: 0.8958\n",
      "Epoch 29/40\n",
      "45/45 [==============================] - 0s 6ms/step - loss: 0.2474 - val_loss: 0.7812\n",
      "Epoch 30/40\n",
      "45/45 [==============================] - 0s 5ms/step - loss: 0.2472 - val_loss: 0.8814\n",
      "Epoch 31/40\n",
      "45/45 [==============================] - 0s 6ms/step - loss: 0.2403 - val_loss: 0.9338\n",
      "Epoch 32/40\n",
      "45/45 [==============================] - 0s 6ms/step - loss: 0.2311 - val_loss: 1.1406\n",
      "Epoch 33/40\n",
      "45/45 [==============================] - 0s 6ms/step - loss: 0.2476 - val_loss: 0.8518\n",
      "Epoch 34/40\n",
      "45/45 [==============================] - 0s 6ms/step - loss: 0.2531 - val_loss: 1.0385\n",
      "Epoch 35/40\n",
      "45/45 [==============================] - 0s 5ms/step - loss: 0.2242 - val_loss: 1.0428\n",
      "Epoch 36/40\n",
      "45/45 [==============================] - 0s 5ms/step - loss: 0.2184 - val_loss: 1.1525\n",
      "Epoch 37/40\n",
      "45/45 [==============================] - 0s 6ms/step - loss: 0.2186 - val_loss: 1.0893\n",
      "Epoch 38/40\n",
      "45/45 [==============================] - 0s 6ms/step - loss: 0.2299 - val_loss: 1.3253\n",
      "Epoch 39/40\n",
      "45/45 [==============================] - 0s 6ms/step - loss: 0.2158 - val_loss: 1.1439\n",
      "Epoch 40/40\n",
      "45/45 [==============================] - 0s 6ms/step - loss: 0.2277 - val_loss: 0.9031\n"
     ]
    },
    {
     "data": {
      "text/plain": [
       "<keras.callbacks.History at 0x157e54bb640>"
      ]
     },
     "execution_count": 11,
     "metadata": {},
     "output_type": "execute_result"
    }
   ],
   "source": [
    "modelo.fit(X_train_reshaped, y_train, epochs=40, batch_size=64, validation_split=0.1)"
   ]
  },
  {
   "cell_type": "markdown",
   "metadata": {},
   "source": [
    "Evaluación del modelo"
   ]
  },
  {
   "cell_type": "code",
   "execution_count": 12,
   "metadata": {},
   "outputs": [
    {
     "name": "stdout",
     "output_type": "stream",
     "text": [
      "25/25 [==============================] - 0s 440us/step\n",
      "\n",
      "Matriz de Confusión:\n"
     ]
    },
    {
     "data": {
      "image/png": "[encoded data removed]",
      "text/plain": [
       "<Figure size 800x600 with 1 Axes>"
      ]
     },
     "metadata": {},
     "output_type": "display_data"
    },
    {
     "name": "stdout",
     "output_type": "stream",
     "text": [
      "Accuracy:\t63.75%\n",
      "Sensitivity:\t40.83%\n",
      "Specificity:\t85.23%\n",
      "Precision:\t72.15%\n",
      "F1-score:\t52.15%\n"
     ]
    }
   ],
   "source": [
    "y_pred_prob = modelo.predict(X_test_reshaped)\n",
    "\n",
    "# Convertir las probabilidades en clases binarias usando un umbral (por ejemplo, 0.85)\n",
    "y_pred = (y_pred_prob > 0.85).astype(int)\n",
    "\n",
    "#Calcular la matriz de confusión\n",
    "conf_matrix = confusion_matrix(y_true=y_test, y_pred=y_pred)\n",
    "\n",
    "# Calcular métricas\n",
    "accuracy = accuracy_score(y_test, y_pred)\n",
    "precision = precision_score(y_test, y_pred)\n",
    "recall = recall_score(y_test, y_pred)\n",
    "f1 = f1_score(y_test, y_pred)\n",
    "\n",
    "# Calcular sensitivity y specificity\n",
    "tn, fp, fn, tp = conf_matrix.ravel()\n",
    "sensitivity = tp / (tp + fn)\n",
    "specificity = tn / (tn + fp)\n",
    "\n",
    "# Imprimir resultados\n",
    "print(\"\\nMatriz de Confusión:\")\n",
    "\n",
    "# Define las etiquetas para los valores en la matriz de confusión\n",
    "labels = [['Verdaderos Negativos\\n', 'Falsos Positivos\\n'],\n",
    "          ['Falsos Negativos\\n', 'Verdaderos Positivos\\n']]\n",
    "\n",
    "# Crear una nueva matriz combinando la matriz de confusión y las etiquetas\n",
    "annot_matrix = [['{} {}'.format(label, value) for label, value in zip(row_labels, row)] for row_labels, row in zip(labels, conf_matrix)]\n",
    "\n",
    "# Crear un mapa de calor con Seaborn\n",
    "plt.figure(figsize=(8, 6))\n",
    "sns.heatmap(conf_matrix, annot=annot_matrix, cmap='Blues', fmt='', cbar=False, annot_kws={'size':14})\n",
    "plt.title('Matriz de Confusión', fontsize=16)\n",
    "plt.show()\n",
    "\n",
    "print(\"Accuracy:\\t{:.2%}\".format(accuracy))\n",
    "print(\"Sensitivity:\\t{:.2%}\".format(sensitivity))\n",
    "print(\"Specificity:\\t{:.2%}\".format(specificity))\n",
    "print(\"Precision:\\t{:.2%}\".format(precision))\n",
    "print(\"F1-score:\\t{:.2%}\".format(f1))"
   ]
  },
  {
   "cell_type": "markdown",
   "metadata": {},
   "source": [
    "Validación cruzada"
   ]
  },
  {
   "cell_type": "code",
   "execution_count": 13,
   "metadata": {},
   "outputs": [
    {
     "name": "stdout",
     "output_type": "stream",
     "text": [
      "13/13 [==============================] - 0s 1ms/step\n",
      "13/13 [==============================] - 0s 1ms/step\n",
      "13/13 [==============================] - 0s 2ms/step\n",
      "13/13 [==============================] - 0s 1ms/step\n"
     ]
    },
    {
     "ename": "KeyboardInterrupt",
     "evalue": "",
     "output_type": "error",
     "traceback": [
      "\u001b[1;31m---------------------------------------------------------------------------\u001b[0m",
      "\u001b[1;31mKeyboardInterrupt\u001b[0m                         Traceback (most recent call last)",
      "Cell \u001b[1;32mIn[13], line 34\u001b[0m\n\u001b[0;32m     32\u001b[0m modelo \u001b[38;5;241m=\u001b[39m estructura_modelo(x_train_\u001b[38;5;241m=\u001b[39mX_train_fold_reshaped)\n\u001b[0;32m     33\u001b[0m modelo\u001b[38;5;241m.\u001b[39mcompile(optimizer\u001b[38;5;241m=\u001b[39mAdam(), loss \u001b[38;5;241m=\u001b[39m \u001b[38;5;124m'\u001b[39m\u001b[38;5;124mbinary_crossentropy\u001b[39m\u001b[38;5;124m'\u001b[39m)\n\u001b[1;32m---> 34\u001b[0m \u001b[43mmodelo\u001b[49m\u001b[38;5;241;43m.\u001b[39;49m\u001b[43mfit\u001b[49m\u001b[43m(\u001b[49m\u001b[43mX_train_fold_reshaped\u001b[49m\u001b[43m,\u001b[49m\u001b[43m \u001b[49m\u001b[43my_train_fold\u001b[49m\u001b[43m,\u001b[49m\u001b[43m \u001b[49m\u001b[43mepochs\u001b[49m\u001b[38;5;241;43m=\u001b[39;49m\u001b[38;5;241;43m40\u001b[39;49m\u001b[43m,\u001b[49m\u001b[43m \u001b[49m\u001b[43mbatch_size\u001b[49m\u001b[38;5;241;43m=\u001b[39;49m\u001b[38;5;241;43m64\u001b[39;49m\u001b[43m,\u001b[49m\u001b[43m \u001b[49m\u001b[43mvalidation_split\u001b[49m\u001b[38;5;241;43m=\u001b[39;49m\u001b[38;5;241;43m0.1\u001b[39;49m\u001b[43m,\u001b[49m\u001b[43m \u001b[49m\u001b[43mverbose\u001b[49m\u001b[38;5;241;43m=\u001b[39;49m\u001b[38;5;241;43m0\u001b[39;49m\u001b[43m)\u001b[49m\n\u001b[0;32m     36\u001b[0m \u001b[38;5;66;03m# Evaluar el modelo en el pliegue actual\u001b[39;00m\n\u001b[0;32m     37\u001b[0m y_pred_fold \u001b[38;5;241m=\u001b[39m modelo\u001b[38;5;241m.\u001b[39mpredict(X_test_fold_reshaped)\n",
      "File \u001b[1;32mc:\\Users\\mmmm\\AppData\\Local\\Programs\\Python\\Python310\\lib\\site-packages\\keras\\utils\\traceback_utils.py:65\u001b[0m, in \u001b[0;36mfilter_traceback.<locals>.error_handler\u001b[1;34m(*args, **kwargs)\u001b[0m\n\u001b[0;32m     63\u001b[0m filtered_tb \u001b[38;5;241m=\u001b[39m \u001b[38;5;28;01mNone\u001b[39;00m\n\u001b[0;32m     64\u001b[0m \u001b[38;5;28;01mtry\u001b[39;00m:\n\u001b[1;32m---> 65\u001b[0m     \u001b[38;5;28;01mreturn\u001b[39;00m fn(\u001b[38;5;241m*\u001b[39margs, \u001b[38;5;241m*\u001b[39m\u001b[38;5;241m*\u001b[39mkwargs)\n\u001b[0;32m     66\u001b[0m \u001b[38;5;28;01mexcept\u001b[39;00m \u001b[38;5;167;01mException\u001b[39;00m \u001b[38;5;28;01mas\u001b[39;00m e:\n\u001b[0;32m     67\u001b[0m     filtered_tb \u001b[38;5;241m=\u001b[39m _process_traceback_frames(e\u001b[38;5;241m.\u001b[39m__traceback__)\n",
      "File \u001b[1;32mc:\\Users\\mmmm\\AppData\\Local\\Programs\\Python\\Python310\\lib\\site-packages\\keras\\engine\\training.py:1555\u001b[0m, in \u001b[0;36mModel.fit\u001b[1;34m(self, x, y, batch_size, epochs, verbose, callbacks, validation_split, validation_data, shuffle, class_weight, sample_weight, initial_epoch, steps_per_epoch, validation_steps, validation_batch_size, validation_freq, max_queue_size, workers, use_multiprocessing)\u001b[0m\n\u001b[0;32m   1551\u001b[0m \u001b[38;5;28;01mwith\u001b[39;00m data_handler\u001b[38;5;241m.\u001b[39mcatch_stop_iteration():\n\u001b[0;32m   1552\u001b[0m     data_handler\u001b[38;5;241m.\u001b[39m_initial_step \u001b[38;5;241m=\u001b[39m data_handler\u001b[38;5;241m.\u001b[39m_initial_step \u001b[38;5;129;01mor\u001b[39;00m (\n\u001b[0;32m   1553\u001b[0m         \u001b[38;5;28mself\u001b[39m\u001b[38;5;241m.\u001b[39m_maybe_load_initial_step_from_ckpt()\n\u001b[0;32m   1554\u001b[0m     )\n\u001b[1;32m-> 1555\u001b[0m     \u001b[38;5;28;01mfor\u001b[39;00m step \u001b[38;5;129;01min\u001b[39;00m data_handler\u001b[38;5;241m.\u001b[39msteps():\n\u001b[0;32m   1556\u001b[0m         \u001b[38;5;28;01mwith\u001b[39;00m tf\u001b[38;5;241m.\u001b[39mprofiler\u001b[38;5;241m.\u001b[39mexperimental\u001b[38;5;241m.\u001b[39mTrace(\n\u001b[0;32m   1557\u001b[0m             \u001b[38;5;124m\"\u001b[39m\u001b[38;5;124mtrain\u001b[39m\u001b[38;5;124m\"\u001b[39m,\n\u001b[0;32m   1558\u001b[0m             epoch_num\u001b[38;5;241m=\u001b[39mepoch,\n\u001b[1;32m   (...)\u001b[0m\n\u001b[0;32m   1561\u001b[0m             _r\u001b[38;5;241m=\u001b[39m\u001b[38;5;241m1\u001b[39m,\n\u001b[0;32m   1562\u001b[0m         ):\n\u001b[0;32m   1563\u001b[0m             callbacks\u001b[38;5;241m.\u001b[39mon_train_batch_begin(step)\n",
      "File \u001b[1;32mc:\\Users\\mmmm\\AppData\\Local\\Programs\\Python\\Python310\\lib\\site-packages\\keras\\engine\\data_adapter.py:1374\u001b[0m, in \u001b[0;36mDataHandler.steps\u001b[1;34m(self)\u001b[0m\n\u001b[0;32m   1372\u001b[0m \u001b[38;5;28;01mif\u001b[39;00m \u001b[38;5;28mself\u001b[39m\u001b[38;5;241m.\u001b[39m_insufficient_data:  \u001b[38;5;66;03m# Set by `catch_stop_iteration`.\u001b[39;00m\n\u001b[0;32m   1373\u001b[0m     \u001b[38;5;28;01mbreak\u001b[39;00m\n\u001b[1;32m-> 1374\u001b[0m original_spe \u001b[38;5;241m=\u001b[39m \u001b[38;5;28;43mself\u001b[39;49m\u001b[38;5;241;43m.\u001b[39;49m\u001b[43m_steps_per_execution\u001b[49m\u001b[38;5;241;43m.\u001b[39;49m\u001b[43mnumpy\u001b[49m\u001b[43m(\u001b[49m\u001b[43m)\u001b[49m\u001b[38;5;241m.\u001b[39mitem()\n\u001b[0;32m   1375\u001b[0m can_run_full_execution \u001b[38;5;241m=\u001b[39m (\n\u001b[0;32m   1376\u001b[0m     original_spe \u001b[38;5;241m==\u001b[39m \u001b[38;5;241m1\u001b[39m\n\u001b[0;32m   1377\u001b[0m     \u001b[38;5;129;01mor\u001b[39;00m \u001b[38;5;28mself\u001b[39m\u001b[38;5;241m.\u001b[39m_inferred_steps \u001b[38;5;129;01mis\u001b[39;00m \u001b[38;5;28;01mNone\u001b[39;00m\n\u001b[0;32m   1378\u001b[0m     \u001b[38;5;129;01mor\u001b[39;00m \u001b[38;5;28mself\u001b[39m\u001b[38;5;241m.\u001b[39m_inferred_steps \u001b[38;5;241m-\u001b[39m \u001b[38;5;28mself\u001b[39m\u001b[38;5;241m.\u001b[39m_current_step \u001b[38;5;241m>\u001b[39m\u001b[38;5;241m=\u001b[39m original_spe\n\u001b[0;32m   1379\u001b[0m )\n\u001b[0;32m   1381\u001b[0m \u001b[38;5;28;01mif\u001b[39;00m can_run_full_execution:\n",
      "File \u001b[1;32mc:\\Users\\mmmm\\AppData\\Local\\Programs\\Python\\Python310\\lib\\site-packages\\tensorflow\\python\\ops\\resource_variable_ops.py:637\u001b[0m, in \u001b[0;36mBaseResourceVariable.numpy\u001b[1;34m(self)\u001b[0m\n\u001b[0;32m    635\u001b[0m \u001b[38;5;28;01mdef\u001b[39;00m \u001b[38;5;21mnumpy\u001b[39m(\u001b[38;5;28mself\u001b[39m):\n\u001b[0;32m    636\u001b[0m   \u001b[38;5;28;01mif\u001b[39;00m context\u001b[38;5;241m.\u001b[39mexecuting_eagerly():\n\u001b[1;32m--> 637\u001b[0m     \u001b[38;5;28;01mreturn\u001b[39;00m \u001b[38;5;28;43mself\u001b[39;49m\u001b[38;5;241;43m.\u001b[39;49m\u001b[43mread_value\u001b[49m\u001b[43m(\u001b[49m\u001b[43m)\u001b[49m\u001b[38;5;241;43m.\u001b[39;49m\u001b[43mnumpy\u001b[49m\u001b[43m(\u001b[49m\u001b[43m)\u001b[49m\n\u001b[0;32m    638\u001b[0m   \u001b[38;5;28;01mraise\u001b[39;00m \u001b[38;5;167;01mNotImplementedError\u001b[39;00m(\n\u001b[0;32m    639\u001b[0m       \u001b[38;5;124m\"\u001b[39m\u001b[38;5;124mnumpy() is only available when eager execution is enabled.\u001b[39m\u001b[38;5;124m\"\u001b[39m)\n",
      "File \u001b[1;32mc:\\Users\\mmmm\\AppData\\Local\\Programs\\Python\\Python310\\lib\\site-packages\\tensorflow\\python\\framework\\ops.py:1157\u001b[0m, in \u001b[0;36m_EagerTensorBase.numpy\u001b[1;34m(self)\u001b[0m\n\u001b[0;32m   1134\u001b[0m \u001b[38;5;250m\u001b[39m\u001b[38;5;124;03m\"\"\"Copy of the contents of this Tensor into a NumPy array or scalar.\u001b[39;00m\n\u001b[0;32m   1135\u001b[0m \n\u001b[0;32m   1136\u001b[0m \u001b[38;5;124;03mUnlike NumPy arrays, Tensors are immutable, so this method has to copy\u001b[39;00m\n\u001b[1;32m   (...)\u001b[0m\n\u001b[0;32m   1154\u001b[0m \u001b[38;5;124;03m    NumPy dtype.\u001b[39;00m\n\u001b[0;32m   1155\u001b[0m \u001b[38;5;124;03m\"\"\"\u001b[39;00m\n\u001b[0;32m   1156\u001b[0m \u001b[38;5;66;03m# TODO(slebedev): Consider avoiding a copy for non-CPU or remote tensors.\u001b[39;00m\n\u001b[1;32m-> 1157\u001b[0m maybe_arr \u001b[38;5;241m=\u001b[39m \u001b[38;5;28;43mself\u001b[39;49m\u001b[38;5;241;43m.\u001b[39;49m\u001b[43m_numpy\u001b[49m\u001b[43m(\u001b[49m\u001b[43m)\u001b[49m  \u001b[38;5;66;03m# pylint: disable=protected-access\u001b[39;00m\n\u001b[0;32m   1158\u001b[0m \u001b[38;5;28;01mreturn\u001b[39;00m maybe_arr\u001b[38;5;241m.\u001b[39mcopy() \u001b[38;5;28;01mif\u001b[39;00m \u001b[38;5;28misinstance\u001b[39m(maybe_arr, np\u001b[38;5;241m.\u001b[39mndarray) \u001b[38;5;28;01melse\u001b[39;00m maybe_arr\n",
      "File \u001b[1;32mc:\\Users\\mmmm\\AppData\\Local\\Programs\\Python\\Python310\\lib\\site-packages\\tensorflow\\python\\framework\\ops.py:1123\u001b[0m, in \u001b[0;36m_EagerTensorBase._numpy\u001b[1;34m(self)\u001b[0m\n\u001b[0;32m   1121\u001b[0m \u001b[38;5;28;01mdef\u001b[39;00m \u001b[38;5;21m_numpy\u001b[39m(\u001b[38;5;28mself\u001b[39m):\n\u001b[0;32m   1122\u001b[0m   \u001b[38;5;28;01mtry\u001b[39;00m:\n\u001b[1;32m-> 1123\u001b[0m     \u001b[38;5;28;01mreturn\u001b[39;00m \u001b[38;5;28;43mself\u001b[39;49m\u001b[38;5;241;43m.\u001b[39;49m\u001b[43m_numpy_internal\u001b[49m\u001b[43m(\u001b[49m\u001b[43m)\u001b[49m\n\u001b[0;32m   1124\u001b[0m   \u001b[38;5;28;01mexcept\u001b[39;00m core\u001b[38;5;241m.\u001b[39m_NotOkStatusException \u001b[38;5;28;01mas\u001b[39;00m e:  \u001b[38;5;66;03m# pylint: disable=protected-access\u001b[39;00m\n\u001b[0;32m   1125\u001b[0m     \u001b[38;5;28;01mraise\u001b[39;00m core\u001b[38;5;241m.\u001b[39m_status_to_exception(e) \u001b[38;5;28;01mfrom\u001b[39;00m \u001b[38;5;28;01mNone\u001b[39;00m\n",
      "\u001b[1;31mKeyboardInterrupt\u001b[0m: "
     ]
    }
   ],
   "source": [
    "#Se define el número de pliegues para la validación cruzada\n",
    "n_folds = 10\n",
    "\n",
    "#Inicializar las listas para almacenar las métricas de evaluación en cada pliegue\n",
    "accuracy_scores = []\n",
    "precision_scores = []\n",
    "recall_scores = []\n",
    "f1_scores = []\n",
    "specificity_scores = []\n",
    "\n",
    "#Inicializar StratifiedKFold\n",
    "skf = StratifiedKFold(n_splits=n_folds, shuffle=True, random_state=42)\n",
    "\n",
    "#Matriz de confusión para validación cruzada\n",
    "conf_matriz_2 = None\n",
    "\n",
    "#Iterar sobre cada pliegue\n",
    "for train_index, test_index in skf.split(X=X, y=y):\n",
    "    X_train_fold, X_test_fold = X.values[train_index], X.values[test_index]\n",
    "    y_train_fold, y_test_fold = y[train_index], y[test_index]\n",
    "\n",
    "    #Estandarizar los datos\n",
    "    scaler_ = StandardScaler()\n",
    "    X_train_fold_scaled = scaler_.fit_transform(X_train_fold)\n",
    "    X_test_fold_scaled = scaler_.transform(X_test_fold)\n",
    "\n",
    "    #Cambiar de forma para que tengan la forma adecuada para la convolución\n",
    "    X_train_fold_reshaped = X_train_fold_scaled.reshape(X_train_fold_scaled.shape[0], X_train_fold_scaled.shape[1], 1)\n",
    "    X_test_fold_reshaped = X_test_fold_scaled.reshape(X_test_fold_scaled.shape[0], X_test_fold_scaled.shape[1], 1)\n",
    "\n",
    "    #Entrenar el modelo con el pliegue actual\n",
    "    modelo = estructura_modelo(x_train_=X_train_fold_reshaped)\n",
    "    modelo.compile(optimizer=Adam(), loss = 'binary_crossentropy')\n",
    "    modelo.fit(X_train_fold_reshaped, y_train_fold, epochs=40, batch_size=64, validation_split=0.1, verbose=0)\n",
    "\n",
    "    # Evaluar el modelo en el pliegue actual\n",
    "    y_pred_fold = modelo.predict(X_test_fold_reshaped)\n",
    "    #Convertir las probabilidades en clases binarias usando un umbral de 0.5\n",
    "    y_pred_fold = (y_pred_fold > 0.5).astype(int)  \n",
    "\n",
    "    #Métricas de desempeño\n",
    "    conf_matriz_2 = confusion_matrix(y_test_fold, y_pred_fold)\n",
    "    tn, fp, fn, tp = conf_matriz_2.ravel()\n",
    "    specificity_scores.append(tn/(tn+fp))\n",
    "    accuracy_scores.append(accuracy_score(y_test_fold, y_pred_fold))\n",
    "    precision_scores.append(precision_score(y_test_fold, y_pred_fold, average='weighted'))\n",
    "    recall_scores.append(recall_score(y_test_fold, y_pred_fold, average='weighted'))\n",
    "    f1_scores.append(f1_score(y_test_fold, y_pred_fold, average='weighted'))"
   ]
  },
  {
   "cell_type": "code",
   "execution_count": null,
   "metadata": {},
   "outputs": [
    {
     "name": "stdout",
     "output_type": "stream",
     "text": [
      "\n",
      "Matriz de Confusión:\n"
     ]
    },
    {
     "data": {
      "image/png": "[encoded data removed]",
      "text/plain": [
       "<Figure size 800x600 with 1 Axes>"
      ]
     },
     "metadata": {},
     "output_type": "display_data"
    },
    {
     "name": "stdout",
     "output_type": "stream",
     "text": [
      "\n",
      "mean Accuracy:\t\t0.73\t\tstd:\t0.05\n",
      "mean Sensitivity:\t0.73\t\tstd:\t0.05\n",
      "mean Precision:\t\t0.74\t\tstd:\t0.06\n",
      "mean F1-score:\t\t0.73\t\tstd:\t0.05\n",
      "mean Specificity:\t0.71\t\tstd:\t0.07\n"
     ]
    }
   ],
   "source": [
    "#Matriz de confusión\n",
    "# Imprimir resultados\n",
    "print(\"\\nMatriz de Confusión:\")\n",
    "\n",
    "# Define las etiquetas para los valores en la matriz de confusión\n",
    "labels = [['Verdaderos Negativos\\n', 'Falsos Positivos\\n'],\n",
    "          ['Falsos Negativos\\n', 'Verdaderos Positivos\\n']]\n",
    "\n",
    "# Crear una nueva matriz combinando la matriz de confusión y las etiquetas\n",
    "annot_matrix = [['{} {}'.format(label, value) for label, value in zip(row_labels, row)] for row_labels, row in zip(labels, conf_matriz_2)]\n",
    "\n",
    "# Crear un mapa de calor con Seaborn\n",
    "plt.figure(figsize=(8, 6))\n",
    "sns.heatmap(conf_matriz_2, annot=annot_matrix, cmap='Blues', fmt='', cbar=False, annot_kws={'size':14})\n",
    "plt.title('Matriz de Confusión', fontsize=16)\n",
    "plt.show()\n",
    "\n",
    "#Calcular los promedios de las métricas\n",
    "mean_accuracy       = np.mean(accuracy_scores)\n",
    "mean_recall         = np.mean(recall_scores)\n",
    "mean_specificity    = np.mean(specificity_scores)\n",
    "mean_precision      = np.mean(precision_scores)\n",
    "mean_f1             = np.mean(f1_scores)\n",
    "\n",
    "#Calcular las desviaciones estandar\n",
    "std_accuracy    = np.std(accuracy_scores)\n",
    "std_recall      = np.std(recall_scores)\n",
    "std_specificity = np.std(specificity_scores)\n",
    "std_precision   = np.std(precision_scores)\n",
    "std_f1          = np.std(f1_scores)\n",
    "\n",
    "# Imprimir los resultados\n",
    "print(\"\\nmean Accuracy:\\t\\t{:.2f}\\t\\tstd:\\t{:.2f}\".format(mean_accuracy, std_accuracy))\n",
    "print(\"mean Sensitivity:\\t{:.2f}\\t\\tstd:\\t{:.2f}\".format(mean_recall, std_recall))\n",
    "print(\"mean Precision:\\t\\t{:.2f}\\t\\tstd:\\t{:.2f}\".format(mean_precision, std_precision))\n",
    "print(\"mean F1-score:\\t\\t{:.2f}\\t\\tstd:\\t{:.2f}\".format(mean_f1, std_f1))\n",
    "print(\"mean Specificity:\\t{:.2f}\\t\\tstd:\\t{:.2f}\".format(mean_specificity, std_specificity))"
   ]
  },
  {
   "cell_type": "markdown",
   "metadata": {},
   "source": [
    "## **Parte 5:** Guardar el modelo"
   ]
  },
  {
   "cell_type": "markdown",
   "metadata": {},
   "source": [
    "Se guarda el modelo con su puntaje de sensibilidad"
   ]
  },
  {
   "cell_type": "code",
   "execution_count": null,
   "metadata": {},
   "outputs": [],
   "source": [
    "modelo.save(filepath=\"modelos/modelo_sensibilidad_{:.2f}.h5\".format(mean_recall))"
   ]
  }
 ],
 "metadata": {
  "kernelspec": {
   "display_name": "venv",
   "language": "python",
   "name": "python3"
  },
  "language_info": {
   "codemirror_mode": {
    "name": "ipython",
    "version": 3
   },
   "file_extension": ".py",
   "mimetype": "text/x-python",
   "name": "python",
   "nbconvert_exporter": "python",
   "pygments_lexer": "ipython3",
   "version": "3.10.0"
  }
 },
 "nbformat": 4,
 "nbformat_minor": 2
}
